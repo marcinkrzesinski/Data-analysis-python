{
 "cells": [
  {
   "cell_type": "code",
   "execution_count": 10,
   "id": "03d4de4e",
   "metadata": {},
   "outputs": [],
   "source": [
    "import pandas as pd\n",
    "import numpy as np\n",
    "import matplotlib.pyplot as plt"
   ]
  },
  {
   "cell_type": "code",
   "execution_count": 11,
   "id": "a00094d9",
   "metadata": {},
   "outputs": [],
   "source": [
    "df = pd.read_excel(r\"C:\\Users\\mkrzesi\\Downloads\\praca-mgr.xlsx\")"
   ]
  },
  {
   "cell_type": "code",
   "execution_count": 12,
   "id": "d497889f",
   "metadata": {},
   "outputs": [
    {
     "data": {
      "text/html": [
       "<div>\n",
       "<style scoped>\n",
       "    .dataframe tbody tr th:only-of-type {\n",
       "        vertical-align: middle;\n",
       "    }\n",
       "\n",
       "    .dataframe tbody tr th {\n",
       "        vertical-align: top;\n",
       "    }\n",
       "\n",
       "    .dataframe thead th {\n",
       "        text-align: right;\n",
       "    }\n",
       "</style>\n",
       "<table border=\"1\" class=\"dataframe\">\n",
       "  <thead>\n",
       "    <tr style=\"text-align: right;\">\n",
       "      <th></th>\n",
       "      <th>NR PORZADKOWY</th>\n",
       "      <th>PLEC</th>\n",
       "      <th>PLEC.1</th>\n",
       "      <th>WIEK</th>\n",
       "      <th>WZROST</th>\n",
       "      <th>MASA CIALA</th>\n",
       "      <th>BMI</th>\n",
       "      <th>BF</th>\n",
       "      <th>PRACA</th>\n",
       "      <th>PYT1</th>\n",
       "      <th>...</th>\n",
       "      <th>PYT5</th>\n",
       "      <th>PYT6</th>\n",
       "      <th>PYT7</th>\n",
       "      <th>PYT8</th>\n",
       "      <th>PYT9</th>\n",
       "      <th>PYT10</th>\n",
       "      <th>SUMA</th>\n",
       "      <th>Unnamed: 20</th>\n",
       "      <th>Unnamed: 21</th>\n",
       "      <th>PRACA.1</th>\n",
       "    </tr>\n",
       "  </thead>\n",
       "  <tbody>\n",
       "    <tr>\n",
       "      <th>0</th>\n",
       "      <td>1.0</td>\n",
       "      <td>M</td>\n",
       "      <td>M</td>\n",
       "      <td>29.0</td>\n",
       "      <td>185.0</td>\n",
       "      <td>105.0</td>\n",
       "      <td>30.679328</td>\n",
       "      <td>20.5</td>\n",
       "      <td>2.0</td>\n",
       "      <td>0</td>\n",
       "      <td>...</td>\n",
       "      <td>0.0</td>\n",
       "      <td>0.0</td>\n",
       "      <td>0.0</td>\n",
       "      <td>0.0</td>\n",
       "      <td>0.0</td>\n",
       "      <td>0.0</td>\n",
       "      <td>0.0</td>\n",
       "      <td>NaN</td>\n",
       "      <td>NaN</td>\n",
       "      <td>fizyczna</td>\n",
       "    </tr>\n",
       "    <tr>\n",
       "      <th>1</th>\n",
       "      <td>2.0</td>\n",
       "      <td>K</td>\n",
       "      <td>K</td>\n",
       "      <td>18.0</td>\n",
       "      <td>167.0</td>\n",
       "      <td>84.2</td>\n",
       "      <td>30.191115</td>\n",
       "      <td>37.4</td>\n",
       "      <td>1.0</td>\n",
       "      <td>2</td>\n",
       "      <td>...</td>\n",
       "      <td>2.0</td>\n",
       "      <td>1.0</td>\n",
       "      <td>1.0</td>\n",
       "      <td>1.0</td>\n",
       "      <td>1.0</td>\n",
       "      <td>1.0</td>\n",
       "      <td>10.0</td>\n",
       "      <td>NaN</td>\n",
       "      <td>NaN</td>\n",
       "      <td>biurowa</td>\n",
       "    </tr>\n",
       "    <tr>\n",
       "      <th>2</th>\n",
       "      <td>3.0</td>\n",
       "      <td>K</td>\n",
       "      <td>K</td>\n",
       "      <td>19.0</td>\n",
       "      <td>174.0</td>\n",
       "      <td>63.0</td>\n",
       "      <td>20.808561</td>\n",
       "      <td>225.0</td>\n",
       "      <td>1.0</td>\n",
       "      <td>0</td>\n",
       "      <td>...</td>\n",
       "      <td>0.0</td>\n",
       "      <td>0.0</td>\n",
       "      <td>0.0</td>\n",
       "      <td>0.0</td>\n",
       "      <td>0.0</td>\n",
       "      <td>0.0</td>\n",
       "      <td>0.0</td>\n",
       "      <td>NaN</td>\n",
       "      <td>NaN</td>\n",
       "      <td>biurowa</td>\n",
       "    </tr>\n",
       "    <tr>\n",
       "      <th>3</th>\n",
       "      <td>4.0</td>\n",
       "      <td>K</td>\n",
       "      <td>K</td>\n",
       "      <td>63.0</td>\n",
       "      <td>162.0</td>\n",
       "      <td>66.1</td>\n",
       "      <td>25.186709</td>\n",
       "      <td>31.8</td>\n",
       "      <td>3.0</td>\n",
       "      <td>0</td>\n",
       "      <td>...</td>\n",
       "      <td>0.0</td>\n",
       "      <td>0.0</td>\n",
       "      <td>0.0</td>\n",
       "      <td>0.0</td>\n",
       "      <td>0.0</td>\n",
       "      <td>1.0</td>\n",
       "      <td>1.0</td>\n",
       "      <td>NaN</td>\n",
       "      <td>NaN</td>\n",
       "      <td>usługi</td>\n",
       "    </tr>\n",
       "    <tr>\n",
       "      <th>4</th>\n",
       "      <td>5.0</td>\n",
       "      <td>K</td>\n",
       "      <td>K</td>\n",
       "      <td>54.0</td>\n",
       "      <td>163.0</td>\n",
       "      <td>68.6</td>\n",
       "      <td>25.819564</td>\n",
       "      <td>36.7</td>\n",
       "      <td>1.0</td>\n",
       "      <td>0</td>\n",
       "      <td>...</td>\n",
       "      <td>3.0</td>\n",
       "      <td>1.0</td>\n",
       "      <td>0.0</td>\n",
       "      <td>0.0</td>\n",
       "      <td>0.0</td>\n",
       "      <td>1.0</td>\n",
       "      <td>10.0</td>\n",
       "      <td>NaN</td>\n",
       "      <td>NaN</td>\n",
       "      <td>biurowa</td>\n",
       "    </tr>\n",
       "    <tr>\n",
       "      <th>...</th>\n",
       "      <td>...</td>\n",
       "      <td>...</td>\n",
       "      <td>...</td>\n",
       "      <td>...</td>\n",
       "      <td>...</td>\n",
       "      <td>...</td>\n",
       "      <td>...</td>\n",
       "      <td>...</td>\n",
       "      <td>...</td>\n",
       "      <td>...</td>\n",
       "      <td>...</td>\n",
       "      <td>...</td>\n",
       "      <td>...</td>\n",
       "      <td>...</td>\n",
       "      <td>...</td>\n",
       "      <td>...</td>\n",
       "      <td>...</td>\n",
       "      <td>...</td>\n",
       "      <td>...</td>\n",
       "      <td>...</td>\n",
       "      <td>...</td>\n",
       "    </tr>\n",
       "    <tr>\n",
       "      <th>146</th>\n",
       "      <td>147.0</td>\n",
       "      <td>K</td>\n",
       "      <td>K</td>\n",
       "      <td>19.0</td>\n",
       "      <td>164.0</td>\n",
       "      <td>71.1</td>\n",
       "      <td>26.435158</td>\n",
       "      <td>34.8</td>\n",
       "      <td>3.0</td>\n",
       "      <td>2</td>\n",
       "      <td>...</td>\n",
       "      <td>1.0</td>\n",
       "      <td>1.0</td>\n",
       "      <td>1.0</td>\n",
       "      <td>0.0</td>\n",
       "      <td>0.0</td>\n",
       "      <td>1.0</td>\n",
       "      <td>6.0</td>\n",
       "      <td>NaN</td>\n",
       "      <td>NaN</td>\n",
       "      <td>usługi</td>\n",
       "    </tr>\n",
       "    <tr>\n",
       "      <th>147</th>\n",
       "      <td>148.0</td>\n",
       "      <td>M</td>\n",
       "      <td>M</td>\n",
       "      <td>23.0</td>\n",
       "      <td>188.0</td>\n",
       "      <td>80.2</td>\n",
       "      <td>22.691263</td>\n",
       "      <td>14.0</td>\n",
       "      <td>2.0</td>\n",
       "      <td>2</td>\n",
       "      <td>...</td>\n",
       "      <td>1.0</td>\n",
       "      <td>0.0</td>\n",
       "      <td>0.0</td>\n",
       "      <td>0.0</td>\n",
       "      <td>1.0</td>\n",
       "      <td>0.0</td>\n",
       "      <td>4.0</td>\n",
       "      <td>NaN</td>\n",
       "      <td>NaN</td>\n",
       "      <td>fizyczna</td>\n",
       "    </tr>\n",
       "    <tr>\n",
       "      <th>148</th>\n",
       "      <td>149.0</td>\n",
       "      <td>M</td>\n",
       "      <td>M</td>\n",
       "      <td>37.0</td>\n",
       "      <td>176.0</td>\n",
       "      <td>83.1</td>\n",
       "      <td>26.827221</td>\n",
       "      <td>19.4</td>\n",
       "      <td>1.0</td>\n",
       "      <td>0</td>\n",
       "      <td>...</td>\n",
       "      <td>0.0</td>\n",
       "      <td>0.0</td>\n",
       "      <td>0.0</td>\n",
       "      <td>0.0</td>\n",
       "      <td>0.0</td>\n",
       "      <td>0.0</td>\n",
       "      <td>0.0</td>\n",
       "      <td>NaN</td>\n",
       "      <td>NaN</td>\n",
       "      <td>biurowa</td>\n",
       "    </tr>\n",
       "    <tr>\n",
       "      <th>149</th>\n",
       "      <td>150.0</td>\n",
       "      <td>K</td>\n",
       "      <td>K</td>\n",
       "      <td>40.0</td>\n",
       "      <td>176.0</td>\n",
       "      <td>63.1</td>\n",
       "      <td>20.370610</td>\n",
       "      <td>30.6</td>\n",
       "      <td>3.0</td>\n",
       "      <td>0</td>\n",
       "      <td>...</td>\n",
       "      <td>1.0</td>\n",
       "      <td>1.0</td>\n",
       "      <td>0.0</td>\n",
       "      <td>0.0</td>\n",
       "      <td>0.0</td>\n",
       "      <td>0.0</td>\n",
       "      <td>2.0</td>\n",
       "      <td>NaN</td>\n",
       "      <td>NaN</td>\n",
       "      <td>usługi</td>\n",
       "    </tr>\n",
       "    <tr>\n",
       "      <th>150</th>\n",
       "      <td>NaN</td>\n",
       "      <td>NaN</td>\n",
       "      <td>NaN</td>\n",
       "      <td>NaN</td>\n",
       "      <td>NaN</td>\n",
       "      <td>NaN</td>\n",
       "      <td>NaN</td>\n",
       "      <td>NaN</td>\n",
       "      <td>NaN</td>\n",
       "      <td>152</td>\n",
       "      <td>...</td>\n",
       "      <td>NaN</td>\n",
       "      <td>NaN</td>\n",
       "      <td>NaN</td>\n",
       "      <td>NaN</td>\n",
       "      <td>NaN</td>\n",
       "      <td>NaN</td>\n",
       "      <td>NaN</td>\n",
       "      <td>NaN</td>\n",
       "      <td>NaN</td>\n",
       "      <td>NaN</td>\n",
       "    </tr>\n",
       "  </tbody>\n",
       "</table>\n",
       "<p>151 rows × 23 columns</p>\n",
       "</div>"
      ],
      "text/plain": [
       "     NR PORZADKOWY PLEC PLEC.1  WIEK  WZROST  MASA CIALA        BMI     BF  \\\n",
       "0              1.0    M      M  29.0   185.0       105.0  30.679328   20.5   \n",
       "1              2.0    K      K  18.0   167.0        84.2  30.191115   37.4   \n",
       "2              3.0    K      K  19.0   174.0        63.0  20.808561  225.0   \n",
       "3              4.0    K      K  63.0   162.0        66.1  25.186709   31.8   \n",
       "4              5.0    K      K  54.0   163.0        68.6  25.819564   36.7   \n",
       "..             ...  ...    ...   ...     ...         ...        ...    ...   \n",
       "146          147.0    K      K  19.0   164.0        71.1  26.435158   34.8   \n",
       "147          148.0    M      M  23.0   188.0        80.2  22.691263   14.0   \n",
       "148          149.0    M      M  37.0   176.0        83.1  26.827221   19.4   \n",
       "149          150.0    K      K  40.0   176.0        63.1  20.370610   30.6   \n",
       "150            NaN  NaN    NaN   NaN     NaN         NaN        NaN    NaN   \n",
       "\n",
       "     PRACA  PYT1  ...  PYT5  PYT6  PYT7  PYT8  PYT9  PYT10  SUMA  Unnamed: 20  \\\n",
       "0      2.0     0  ...   0.0   0.0   0.0   0.0   0.0    0.0   0.0          NaN   \n",
       "1      1.0     2  ...   2.0   1.0   1.0   1.0   1.0    1.0  10.0          NaN   \n",
       "2      1.0     0  ...   0.0   0.0   0.0   0.0   0.0    0.0   0.0          NaN   \n",
       "3      3.0     0  ...   0.0   0.0   0.0   0.0   0.0    1.0   1.0          NaN   \n",
       "4      1.0     0  ...   3.0   1.0   0.0   0.0   0.0    1.0  10.0          NaN   \n",
       "..     ...   ...  ...   ...   ...   ...   ...   ...    ...   ...          ...   \n",
       "146    3.0     2  ...   1.0   1.0   1.0   0.0   0.0    1.0   6.0          NaN   \n",
       "147    2.0     2  ...   1.0   0.0   0.0   0.0   1.0    0.0   4.0          NaN   \n",
       "148    1.0     0  ...   0.0   0.0   0.0   0.0   0.0    0.0   0.0          NaN   \n",
       "149    3.0     0  ...   1.0   1.0   0.0   0.0   0.0    0.0   2.0          NaN   \n",
       "150    NaN   152  ...   NaN   NaN   NaN   NaN   NaN    NaN   NaN          NaN   \n",
       "\n",
       "     Unnamed: 21   PRACA.1  \n",
       "0            NaN  fizyczna  \n",
       "1            NaN   biurowa  \n",
       "2            NaN   biurowa  \n",
       "3            NaN    usługi  \n",
       "4            NaN   biurowa  \n",
       "..           ...       ...  \n",
       "146          NaN    usługi  \n",
       "147          NaN  fizyczna  \n",
       "148          NaN   biurowa  \n",
       "149          NaN    usługi  \n",
       "150          NaN       NaN  \n",
       "\n",
       "[151 rows x 23 columns]"
      ]
     },
     "execution_count": 12,
     "metadata": {},
     "output_type": "execute_result"
    }
   ],
   "source": [
    "df"
   ]
  },
  {
   "cell_type": "code",
   "execution_count": 13,
   "id": "96ac38a3",
   "metadata": {},
   "outputs": [
    {
     "data": {
      "text/plain": [
       "0      30.679328\n",
       "1      30.191115\n",
       "2      20.808561\n",
       "3      25.186709\n",
       "4      25.819564\n",
       "         ...    \n",
       "146    26.435158\n",
       "147    22.691263\n",
       "148    26.827221\n",
       "149    20.370610\n",
       "150          NaN\n",
       "Name: BMI, Length: 151, dtype: float64"
      ]
     },
     "execution_count": 13,
     "metadata": {},
     "output_type": "execute_result"
    }
   ],
   "source": [
    "df.BMI"
   ]
  },
  {
   "cell_type": "code",
   "execution_count": 15,
   "id": "d4409993",
   "metadata": {},
   "outputs": [
    {
     "data": {
      "text/plain": [
       "Index(['NR PORZADKOWY', 'PLEC', 'PLEC.1', 'WIEK', 'WZROST', 'MASA CIALA',\n",
       "       'BMI', 'BF', 'PRACA', 'PYT1', 'PYT2', 'PYT3', 'PYT4', 'PYT5', 'PYT6',\n",
       "       'PYT7', 'PYT8', 'PYT9', 'PYT10', 'SUMA', 'Unnamed: 20', 'Unnamed: 21',\n",
       "       'PRACA.1'],\n",
       "      dtype='object')"
      ]
     },
     "execution_count": 15,
     "metadata": {},
     "output_type": "execute_result"
    }
   ],
   "source": [
    "df.columns"
   ]
  },
  {
   "cell_type": "code",
   "execution_count": 16,
   "id": "a3bd8ba5",
   "metadata": {},
   "outputs": [
    {
     "data": {
      "text/plain": [
       "NR PORZADKOWY    float64\n",
       "PLEC              object\n",
       "PLEC.1            object\n",
       "WIEK             float64\n",
       "WZROST           float64\n",
       "MASA CIALA       float64\n",
       "BMI              float64\n",
       "BF               float64\n",
       "PRACA            float64\n",
       "PYT1               int64\n",
       "PYT2             float64\n",
       "PYT3             float64\n",
       "PYT4             float64\n",
       "PYT5             float64\n",
       "PYT6             float64\n",
       "PYT7             float64\n",
       "PYT8             float64\n",
       "PYT9             float64\n",
       "PYT10            float64\n",
       "SUMA             float64\n",
       "Unnamed: 20      float64\n",
       "Unnamed: 21      float64\n",
       "PRACA.1           object\n",
       "dtype: object"
      ]
     },
     "execution_count": 16,
     "metadata": {},
     "output_type": "execute_result"
    }
   ],
   "source": [
    "df.dtypes"
   ]
  },
  {
   "cell_type": "code",
   "execution_count": 17,
   "id": "97b5b013",
   "metadata": {},
   "outputs": [
    {
     "data": {
      "text/plain": [
       "34.873333333333335"
      ]
     },
     "execution_count": 17,
     "metadata": {},
     "output_type": "execute_result"
    }
   ],
   "source": [
    "df.WIEK.mean()"
   ]
  },
  {
   "cell_type": "code",
   "execution_count": 18,
   "id": "b8f002c7",
   "metadata": {},
   "outputs": [],
   "source": [
    "wiek_18_30 = df[(df.WIEK > 18) & (df.WIEK <= 30)].WIEK\n",
    "wiek_30_42 = df[(df.WIEK > 30) & (df.WIEK <= 42)].WIEK\n",
    "wiek_42_plus = df[(df.WIEK > 42)].WIEK"
   ]
  },
  {
   "cell_type": "code",
   "execution_count": 19,
   "id": "f165f71d",
   "metadata": {},
   "outputs": [
    {
     "data": {
      "text/plain": [
       "61"
      ]
     },
     "execution_count": 19,
     "metadata": {},
     "output_type": "execute_result"
    }
   ],
   "source": [
    "len(wiek_18_30)"
   ]
  },
  {
   "cell_type": "code",
   "execution_count": 20,
   "id": "6eef50f9",
   "metadata": {},
   "outputs": [],
   "source": [
    "wiek_przedzial = [\"18-30\", \"30-42\", \"42+\"]\n",
    "\n",
    "x = np.array([1,5,9])\n",
    "wieki = np.array([len(wiek_18_30), len(wiek_30_42), len(wiek_42_plus)])"
   ]
  },
  {
   "cell_type": "code",
   "execution_count": 21,
   "id": "e2540774",
   "metadata": {
    "scrolled": false
   },
   "outputs": [
    {
     "data": {
      "image/png": "[encoded data removed]",
      "text/plain": [
       "<Figure size 864x432 with 1 Axes>"
      ]
     },
     "metadata": {
      "needs_background": "light"
     },
     "output_type": "display_data"
    }
   ],
   "source": [
    "plt.figure(figsize=(12,6))\n",
    "\n",
    "plt.bar(x, wieki, width=0.5, label=\"wiek\")\n",
    "\n",
    "# plt.bar(x+.5, wiek_30_42, width=0.5, label=\"wiek 30-42\")\n",
    "# plt.bar(x+1, wiek_42_plus, width=0.5, label=\"wiek 42+\")\n",
    "\n",
    "plt.legend(loc=\"upper left\", ncol=3)\n",
    "\n",
    "\n",
    "plt.grid(axis='y')\n",
    "\n",
    "plt.yticks(range(0,75,5))\n",
    "plt.xticks(x, wiek_przedzial)\n",
    "plt.ylabel(\"ilość\")\n",
    "plt.title(\"Ilość osób w danym wieku\")\n",
    "\n",
    "plt.show()"
   ]
  },
  {
   "cell_type": "markdown",
   "id": "4e059d24",
   "metadata": {},
   "source": [
    "### BMI - suma odp."
   ]
  },
  {
   "cell_type": "code",
   "execution_count": 22,
   "id": "226861d4",
   "metadata": {},
   "outputs": [],
   "source": [
    "bmi_25 = df[df.BMI <= 25].BMI\n",
    "bmi_25_30 = df[(df.BMI > 25) & (df.BMI <= 30)].BMI\n",
    "bmi_30_plus = df[df.BMI > 30].BMI\n",
    "\n",
    "bmi_tablica = np.array([len(bmi_25), len(bmi_25_30), len(bmi_30_plus)])\n",
    "bmi_przedzial = [\"do 25\", \"25-30\", \"30+\"]"
   ]
  },
  {
   "cell_type": "code",
   "execution_count": 23,
   "id": "77800567",
   "metadata": {},
   "outputs": [
    {
     "data": {
      "text/plain": [
       "150"
      ]
     },
     "execution_count": 23,
     "metadata": {},
     "output_type": "execute_result"
    }
   ],
   "source": [
    "suma_bmi = len(bmi_30_plus)+len(bmi_25)+len(bmi_25_30)\n",
    "suma_bmi"
   ]
  },
  {
   "cell_type": "code",
   "execution_count": 24,
   "id": "4b1dd660",
   "metadata": {},
   "outputs": [
    {
     "data": {
      "image/png": "[encoded data removed]",
      "text/plain": [
       "<Figure size 864x432 with 1 Axes>"
      ]
     },
     "metadata": {
      "needs_background": "light"
     },
     "output_type": "display_data"
    }
   ],
   "source": [
    "plt.figure(figsize=(12,6))\n",
    "\n",
    "plt.bar(x, bmi_tablica, width=0.5, label=\"bmi\")\n",
    "\n",
    "plt.legend(loc=\"upper left\", ncol=3)\n",
    "\n",
    "\n",
    "plt.grid(axis='y')\n",
    "\n",
    "plt.yticks(range(0,80,5))\n",
    "plt.xticks(x, bmi_przedzial)\n",
    "\n",
    "plt.ylabel(\"ilość osób o danym BMI\")\n",
    "plt.xlabel(\"wartość BMI\")\n",
    "\n",
    "plt.title(\"BMI\")\n",
    "\n",
    "plt.show()"
   ]
  },
  {
   "cell_type": "code",
   "execution_count": 25,
   "id": "3d236f65",
   "metadata": {},
   "outputs": [
    {
     "data": {
      "text/plain": [
       "67"
      ]
     },
     "execution_count": 25,
     "metadata": {},
     "output_type": "execute_result"
    }
   ],
   "source": [
    "len(bmi_25)"
   ]
  },
  {
   "cell_type": "markdown",
   "id": "f5633bdd",
   "metadata": {},
   "source": [
    "### Suma odp. dla danych przedzialow BMI"
   ]
  },
  {
   "cell_type": "code",
   "execution_count": 26,
   "id": "d5b48f14",
   "metadata": {},
   "outputs": [],
   "source": [
    "suma_25 = df.SUMA[df.BMI <= 25]\n",
    "suma_25_30 = df.SUMA[(df.BMI > 25) & (df.BMI <= 30)]\n",
    "suma_30_plus = df.SUMA[df.BMI > 30]\n",
    "\n",
    "sumy_odp = np.array([sum(suma_25), sum(suma_25_30), sum(suma_30_plus)])\n"
   ]
  },
  {
   "cell_type": "code",
   "execution_count": 27,
   "id": "f83f26dc",
   "metadata": {},
   "outputs": [
    {
     "data": {
      "text/plain": [
       "214.0"
      ]
     },
     "execution_count": 27,
     "metadata": {},
     "output_type": "execute_result"
    }
   ],
   "source": [
    "sum(suma_25)"
   ]
  },
  {
   "cell_type": "markdown",
   "id": "4e649df2",
   "metadata": {},
   "source": [
    "suma_25"
   ]
  },
  {
   "cell_type": "code",
   "execution_count": 28,
   "id": "bbe91012",
   "metadata": {},
   "outputs": [
    {
     "data": {
      "image/png": "[encoded data removed]",
      "text/plain": [
       "<Figure size 864x432 with 1 Axes>"
      ]
     },
     "metadata": {
      "needs_background": "light"
     },
     "output_type": "display_data"
    }
   ],
   "source": [
    "plt.figure(figsize=(12,6))\n",
    "\n",
    "plt.bar(x, sumy_odp, width=0.5, label=\"bmi\")\n",
    "\n",
    "plt.legend(loc=\"upper left\", ncol=3)\n",
    "\n",
    "\n",
    "plt.grid(axis='y')\n",
    "\n",
    "plt.yticks(range(0,320,20))\n",
    "plt.xticks(x, bmi_przedzial)\n",
    "\n",
    "plt.ylabel(\"sumy odp\")\n",
    "plt.xlabel(\"BMI\")\n",
    "\n",
    "plt.title(\"Ilość sumy odp. w stosunsku do wartości BMI\")\n",
    "\n",
    "plt.show()"
   ]
  },
  {
   "cell_type": "markdown",
   "id": "0a32e3a5",
   "metadata": {},
   "source": [
    "### BMI - kazdej odp."
   ]
  },
  {
   "cell_type": "code",
   "execution_count": 1,
   "id": "4f7ea99f",
   "metadata": {},
   "outputs": [
    {
     "ename": "NameError",
     "evalue": "name 'df' is not defined",
     "output_type": "error",
     "traceback": [
      "\u001b[1;31m---------------------------------------------------------------------------\u001b[0m",
      "\u001b[1;31mNameError\u001b[0m                                 Traceback (most recent call last)",
      "\u001b[1;32m~\\AppData\\Local\\Temp/ipykernel_31524/3483898941.py\u001b[0m in \u001b[0;36m<module>\u001b[1;34m\u001b[0m\n\u001b[1;32m----> 1\u001b[1;33m \u001b[0mp1\u001b[0m \u001b[1;33m=\u001b[0m \u001b[0mdf\u001b[0m\u001b[1;33m.\u001b[0m\u001b[0mPYT1\u001b[0m\u001b[1;33m[\u001b[0m\u001b[0mdf\u001b[0m\u001b[1;33m.\u001b[0m\u001b[0mPYT1\u001b[0m\u001b[1;33m:\u001b[0m\u001b[0mdf\u001b[0m\u001b[1;33m.\u001b[0m\u001b[0mPYT10\u001b[0m\u001b[1;33m]\u001b[0m\u001b[1;33m[\u001b[0m\u001b[0mdf\u001b[0m\u001b[1;33m.\u001b[0m\u001b[0mBMI\u001b[0m \u001b[1;33m<\u001b[0m \u001b[1;36m25\u001b[0m\u001b[1;33m]\u001b[0m\u001b[1;33m\u001b[0m\u001b[1;33m\u001b[0m\u001b[0m\n\u001b[0m\u001b[0;32m      2\u001b[0m \u001b[1;33m\u001b[0m\u001b[0m\n\u001b[0;32m      3\u001b[0m \u001b[1;33m\u001b[0m\u001b[0m\n\u001b[0;32m      4\u001b[0m \u001b[1;31m# suma_25_30 = df.SUMA[(df.BMI > 25) & (df.BMI <= 30)]\u001b[0m\u001b[1;33m\u001b[0m\u001b[1;33m\u001b[0m\u001b[0m\n\u001b[0;32m      5\u001b[0m \u001b[1;31m# suma_30_plus = df.SUMA[df.BMI > 30]\u001b[0m\u001b[1;33m\u001b[0m\u001b[1;33m\u001b[0m\u001b[0m\n",
      "\u001b[1;31mNameError\u001b[0m: name 'df' is not defined"
     ]
    }
   ],
   "source": [
    "# p1 = df.PYT1[df.PYT1:df.PYT10][df.BMI < 25]\n",
    "\n",
    "# suma_25_30 = df.SUMA[(df.BMI > 25) & (df.BMI <= 30)]\n",
    "# suma_30_plus = df.SUMA[df.BMI > 30]\n",
    "\n",
    "# sumy_odp = np.array([sum(suma_25), sum(suma_25_30), sum(suma_30_plus)])"
   ]
  },
  {
   "cell_type": "code",
   "execution_count": 30,
   "id": "965e5e94",
   "metadata": {
    "scrolled": true
   },
   "outputs": [
    {
     "data": {
      "text/plain": [
       "Index(['NR PORZADKOWY', 'PLEC', 'PLEC.1', 'WIEK', 'WZROST', 'MASA CIALA',\n",
       "       'BMI', 'BF', 'PRACA', 'PYT1', 'PYT2', 'PYT3', 'PYT4', 'PYT5', 'PYT6',\n",
       "       'PYT7', 'PYT8', 'PYT9', 'PYT10', 'SUMA', 'Unnamed: 20', 'Unnamed: 21',\n",
       "       'PRACA.1'],\n",
       "      dtype='object')"
      ]
     },
     "execution_count": 30,
     "metadata": {},
     "output_type": "execute_result"
    }
   ],
   "source": [
    "df.columns"
   ]
  },
  {
   "cell_type": "code",
   "execution_count": 31,
   "id": "087f3d3e",
   "metadata": {},
   "outputs": [
    {
     "data": {
      "text/html": [
       "<div>\n",
       "<style scoped>\n",
       "    .dataframe tbody tr th:only-of-type {\n",
       "        vertical-align: middle;\n",
       "    }\n",
       "\n",
       "    .dataframe tbody tr th {\n",
       "        vertical-align: top;\n",
       "    }\n",
       "\n",
       "    .dataframe thead th {\n",
       "        text-align: right;\n",
       "    }\n",
       "</style>\n",
       "<table border=\"1\" class=\"dataframe\">\n",
       "  <thead>\n",
       "    <tr style=\"text-align: right;\">\n",
       "      <th></th>\n",
       "      <th>NR PORZADKOWY</th>\n",
       "      <th>WIEK</th>\n",
       "      <th>WZROST</th>\n",
       "      <th>MASA CIALA</th>\n",
       "      <th>BMI</th>\n",
       "      <th>BF</th>\n",
       "      <th>PRACA</th>\n",
       "      <th>PYT1</th>\n",
       "      <th>PYT2</th>\n",
       "      <th>PYT3</th>\n",
       "      <th>PYT4</th>\n",
       "      <th>PYT5</th>\n",
       "      <th>PYT6</th>\n",
       "      <th>PYT7</th>\n",
       "      <th>PYT8</th>\n",
       "      <th>PYT9</th>\n",
       "      <th>PYT10</th>\n",
       "      <th>SUMA</th>\n",
       "      <th>Unnamed: 20</th>\n",
       "      <th>Unnamed: 21</th>\n",
       "    </tr>\n",
       "  </thead>\n",
       "  <tbody>\n",
       "    <tr>\n",
       "      <th>count</th>\n",
       "      <td>150.000000</td>\n",
       "      <td>150.000000</td>\n",
       "      <td>150.000000</td>\n",
       "      <td>150.000000</td>\n",
       "      <td>150.000000</td>\n",
       "      <td>150.000000</td>\n",
       "      <td>150.000000</td>\n",
       "      <td>151.000000</td>\n",
       "      <td>150.000000</td>\n",
       "      <td>150.000000</td>\n",
       "      <td>150.000000</td>\n",
       "      <td>150.000000</td>\n",
       "      <td>150.000000</td>\n",
       "      <td>150.000000</td>\n",
       "      <td>150.000000</td>\n",
       "      <td>150.000000</td>\n",
       "      <td>150.000000</td>\n",
       "      <td>150.000000</td>\n",
       "      <td>0.0</td>\n",
       "      <td>0.0</td>\n",
       "    </tr>\n",
       "    <tr>\n",
       "      <th>mean</th>\n",
       "      <td>75.500000</td>\n",
       "      <td>34.873333</td>\n",
       "      <td>170.613333</td>\n",
       "      <td>75.561333</td>\n",
       "      <td>25.848613</td>\n",
       "      <td>29.520000</td>\n",
       "      <td>1.633333</td>\n",
       "      <td>2.013245</td>\n",
       "      <td>0.200000</td>\n",
       "      <td>0.453333</td>\n",
       "      <td>0.093333</td>\n",
       "      <td>0.666667</td>\n",
       "      <td>0.733333</td>\n",
       "      <td>0.346667</td>\n",
       "      <td>0.153333</td>\n",
       "      <td>0.466667</td>\n",
       "      <td>0.673333</td>\n",
       "      <td>4.800000</td>\n",
       "      <td>NaN</td>\n",
       "      <td>NaN</td>\n",
       "    </tr>\n",
       "    <tr>\n",
       "      <th>std</th>\n",
       "      <td>43.445368</td>\n",
       "      <td>11.677602</td>\n",
       "      <td>8.558356</td>\n",
       "      <td>14.311125</td>\n",
       "      <td>3.925852</td>\n",
       "      <td>21.986353</td>\n",
       "      <td>0.907956</td>\n",
       "      <td>12.344492</td>\n",
       "      <td>0.543417</td>\n",
       "      <td>0.987075</td>\n",
       "      <td>0.314027</td>\n",
       "      <td>0.747853</td>\n",
       "      <td>0.840794</td>\n",
       "      <td>0.567423</td>\n",
       "      <td>0.527584</td>\n",
       "      <td>0.701548</td>\n",
       "      <td>0.863088</td>\n",
       "      <td>5.104282</td>\n",
       "      <td>NaN</td>\n",
       "      <td>NaN</td>\n",
       "    </tr>\n",
       "    <tr>\n",
       "      <th>min</th>\n",
       "      <td>1.000000</td>\n",
       "      <td>18.000000</td>\n",
       "      <td>145.000000</td>\n",
       "      <td>45.800000</td>\n",
       "      <td>16.790809</td>\n",
       "      <td>7.500000</td>\n",
       "      <td>0.000000</td>\n",
       "      <td>0.000000</td>\n",
       "      <td>0.000000</td>\n",
       "      <td>0.000000</td>\n",
       "      <td>0.000000</td>\n",
       "      <td>0.000000</td>\n",
       "      <td>0.000000</td>\n",
       "      <td>0.000000</td>\n",
       "      <td>0.000000</td>\n",
       "      <td>0.000000</td>\n",
       "      <td>0.000000</td>\n",
       "      <td>0.000000</td>\n",
       "      <td>NaN</td>\n",
       "      <td>NaN</td>\n",
       "    </tr>\n",
       "    <tr>\n",
       "      <th>25%</th>\n",
       "      <td>38.250000</td>\n",
       "      <td>25.000000</td>\n",
       "      <td>165.000000</td>\n",
       "      <td>65.100000</td>\n",
       "      <td>22.884869</td>\n",
       "      <td>19.725000</td>\n",
       "      <td>1.000000</td>\n",
       "      <td>0.000000</td>\n",
       "      <td>0.000000</td>\n",
       "      <td>0.000000</td>\n",
       "      <td>0.000000</td>\n",
       "      <td>0.000000</td>\n",
       "      <td>0.000000</td>\n",
       "      <td>0.000000</td>\n",
       "      <td>0.000000</td>\n",
       "      <td>0.000000</td>\n",
       "      <td>0.000000</td>\n",
       "      <td>0.000000</td>\n",
       "      <td>NaN</td>\n",
       "      <td>NaN</td>\n",
       "    </tr>\n",
       "    <tr>\n",
       "      <th>50%</th>\n",
       "      <td>75.500000</td>\n",
       "      <td>33.000000</td>\n",
       "      <td>170.000000</td>\n",
       "      <td>75.300000</td>\n",
       "      <td>25.571240</td>\n",
       "      <td>27.750000</td>\n",
       "      <td>1.000000</td>\n",
       "      <td>0.000000</td>\n",
       "      <td>0.000000</td>\n",
       "      <td>0.000000</td>\n",
       "      <td>0.000000</td>\n",
       "      <td>1.000000</td>\n",
       "      <td>1.000000</td>\n",
       "      <td>0.000000</td>\n",
       "      <td>0.000000</td>\n",
       "      <td>0.000000</td>\n",
       "      <td>0.000000</td>\n",
       "      <td>4.000000</td>\n",
       "      <td>NaN</td>\n",
       "      <td>NaN</td>\n",
       "    </tr>\n",
       "    <tr>\n",
       "      <th>75%</th>\n",
       "      <td>112.750000</td>\n",
       "      <td>43.750000</td>\n",
       "      <td>176.000000</td>\n",
       "      <td>84.725000</td>\n",
       "      <td>28.533297</td>\n",
       "      <td>34.300000</td>\n",
       "      <td>2.000000</td>\n",
       "      <td>2.000000</td>\n",
       "      <td>0.000000</td>\n",
       "      <td>1.000000</td>\n",
       "      <td>0.000000</td>\n",
       "      <td>1.000000</td>\n",
       "      <td>1.000000</td>\n",
       "      <td>1.000000</td>\n",
       "      <td>0.000000</td>\n",
       "      <td>1.000000</td>\n",
       "      <td>1.000000</td>\n",
       "      <td>8.000000</td>\n",
       "      <td>NaN</td>\n",
       "      <td>NaN</td>\n",
       "    </tr>\n",
       "    <tr>\n",
       "      <th>max</th>\n",
       "      <td>150.000000</td>\n",
       "      <td>66.000000</td>\n",
       "      <td>190.000000</td>\n",
       "      <td>117.000000</td>\n",
       "      <td>39.446944</td>\n",
       "      <td>225.000000</td>\n",
       "      <td>4.000000</td>\n",
       "      <td>152.000000</td>\n",
       "      <td>3.000000</td>\n",
       "      <td>5.000000</td>\n",
       "      <td>2.000000</td>\n",
       "      <td>3.000000</td>\n",
       "      <td>4.000000</td>\n",
       "      <td>2.000000</td>\n",
       "      <td>4.000000</td>\n",
       "      <td>3.000000</td>\n",
       "      <td>4.000000</td>\n",
       "      <td>24.000000</td>\n",
       "      <td>NaN</td>\n",
       "      <td>NaN</td>\n",
       "    </tr>\n",
       "  </tbody>\n",
       "</table>\n",
       "</div>"
      ],
      "text/plain": [
       "       NR PORZADKOWY        WIEK      WZROST  MASA CIALA         BMI  \\\n",
       "count     150.000000  150.000000  150.000000  150.000000  150.000000   \n",
       "mean       75.500000   34.873333  170.613333   75.561333   25.848613   \n",
       "std        43.445368   11.677602    8.558356   14.311125    3.925852   \n",
       "min         1.000000   18.000000  145.000000   45.800000   16.790809   \n",
       "25%        38.250000   25.000000  165.000000   65.100000   22.884869   \n",
       "50%        75.500000   33.000000  170.000000   75.300000   25.571240   \n",
       "75%       112.750000   43.750000  176.000000   84.725000   28.533297   \n",
       "max       150.000000   66.000000  190.000000  117.000000   39.446944   \n",
       "\n",
       "               BF       PRACA        PYT1        PYT2        PYT3        PYT4  \\\n",
       "count  150.000000  150.000000  151.000000  150.000000  150.000000  150.000000   \n",
       "mean    29.520000    1.633333    2.013245    0.200000    0.453333    0.093333   \n",
       "std     21.986353    0.907956   12.344492    0.543417    0.987075    0.314027   \n",
       "min      7.500000    0.000000    0.000000    0.000000    0.000000    0.000000   \n",
       "25%     19.725000    1.000000    0.000000    0.000000    0.000000    0.000000   \n",
       "50%     27.750000    1.000000    0.000000    0.000000    0.000000    0.000000   \n",
       "75%     34.300000    2.000000    2.000000    0.000000    1.000000    0.000000   \n",
       "max    225.000000    4.000000  152.000000    3.000000    5.000000    2.000000   \n",
       "\n",
       "             PYT5        PYT6        PYT7        PYT8        PYT9       PYT10  \\\n",
       "count  150.000000  150.000000  150.000000  150.000000  150.000000  150.000000   \n",
       "mean     0.666667    0.733333    0.346667    0.153333    0.466667    0.673333   \n",
       "std      0.747853    0.840794    0.567423    0.527584    0.701548    0.863088   \n",
       "min      0.000000    0.000000    0.000000    0.000000    0.000000    0.000000   \n",
       "25%      0.000000    0.000000    0.000000    0.000000    0.000000    0.000000   \n",
       "50%      1.000000    1.000000    0.000000    0.000000    0.000000    0.000000   \n",
       "75%      1.000000    1.000000    1.000000    0.000000    1.000000    1.000000   \n",
       "max      3.000000    4.000000    2.000000    4.000000    3.000000    4.000000   \n",
       "\n",
       "             SUMA  Unnamed: 20  Unnamed: 21  \n",
       "count  150.000000          0.0          0.0  \n",
       "mean     4.800000          NaN          NaN  \n",
       "std      5.104282          NaN          NaN  \n",
       "min      0.000000          NaN          NaN  \n",
       "25%      0.000000          NaN          NaN  \n",
       "50%      4.000000          NaN          NaN  \n",
       "75%      8.000000          NaN          NaN  \n",
       "max     24.000000          NaN          NaN  "
      ]
     },
     "execution_count": 31,
     "metadata": {},
     "output_type": "execute_result"
    }
   ],
   "source": [
    "df.describe()"
   ]
  },
  {
   "cell_type": "code",
   "execution_count": 32,
   "id": "0076ffa7",
   "metadata": {},
   "outputs": [],
   "source": [
    "p1_10 = df[df.loc['PYT1':'PYT10']]"
   ]
  },
  {
   "cell_type": "code",
   "execution_count": 33,
   "id": "2bd658b0",
   "metadata": {},
   "outputs": [
    {
     "data": {
      "text/plain": [
       "2      0\n",
       "5      0\n",
       "6      0\n",
       "7      2\n",
       "11     0\n",
       "      ..\n",
       "137    0\n",
       "142    0\n",
       "145    0\n",
       "147    2\n",
       "149    0\n",
       "Name: PYT1, Length: 67, dtype: int64"
      ]
     },
     "execution_count": 33,
     "metadata": {},
     "output_type": "execute_result"
    }
   ],
   "source": [
    "df.query('BMI < 25')['PYT1']"
   ]
  },
  {
   "cell_type": "code",
   "execution_count": 34,
   "id": "2cd795ad",
   "metadata": {},
   "outputs": [
    {
     "data": {
      "text/html": [
       "<div>\n",
       "<style scoped>\n",
       "    .dataframe tbody tr th:only-of-type {\n",
       "        vertical-align: middle;\n",
       "    }\n",
       "\n",
       "    .dataframe tbody tr th {\n",
       "        vertical-align: top;\n",
       "    }\n",
       "\n",
       "    .dataframe thead th {\n",
       "        text-align: right;\n",
       "    }\n",
       "</style>\n",
       "<table border=\"1\" class=\"dataframe\">\n",
       "  <thead>\n",
       "    <tr style=\"text-align: right;\">\n",
       "      <th></th>\n",
       "      <th>PYT1</th>\n",
       "      <th>PYT2</th>\n",
       "      <th>PYT3</th>\n",
       "      <th>PYT4</th>\n",
       "      <th>PYT5</th>\n",
       "      <th>PYT6</th>\n",
       "      <th>PYT7</th>\n",
       "      <th>PYT8</th>\n",
       "      <th>PYT9</th>\n",
       "      <th>PYT10</th>\n",
       "    </tr>\n",
       "  </thead>\n",
       "  <tbody>\n",
       "    <tr>\n",
       "      <th>0</th>\n",
       "      <td>0</td>\n",
       "      <td>0.0</td>\n",
       "      <td>0.0</td>\n",
       "      <td>0.0</td>\n",
       "      <td>0.0</td>\n",
       "      <td>0.0</td>\n",
       "      <td>0.0</td>\n",
       "      <td>0.0</td>\n",
       "      <td>0.0</td>\n",
       "      <td>0.0</td>\n",
       "    </tr>\n",
       "    <tr>\n",
       "      <th>1</th>\n",
       "      <td>2</td>\n",
       "      <td>0.0</td>\n",
       "      <td>1.0</td>\n",
       "      <td>0.0</td>\n",
       "      <td>2.0</td>\n",
       "      <td>1.0</td>\n",
       "      <td>1.0</td>\n",
       "      <td>1.0</td>\n",
       "      <td>1.0</td>\n",
       "      <td>1.0</td>\n",
       "    </tr>\n",
       "    <tr>\n",
       "      <th>2</th>\n",
       "      <td>0</td>\n",
       "      <td>0.0</td>\n",
       "      <td>0.0</td>\n",
       "      <td>0.0</td>\n",
       "      <td>0.0</td>\n",
       "      <td>0.0</td>\n",
       "      <td>0.0</td>\n",
       "      <td>0.0</td>\n",
       "      <td>0.0</td>\n",
       "      <td>0.0</td>\n",
       "    </tr>\n",
       "    <tr>\n",
       "      <th>3</th>\n",
       "      <td>0</td>\n",
       "      <td>0.0</td>\n",
       "      <td>0.0</td>\n",
       "      <td>0.0</td>\n",
       "      <td>0.0</td>\n",
       "      <td>0.0</td>\n",
       "      <td>0.0</td>\n",
       "      <td>0.0</td>\n",
       "      <td>0.0</td>\n",
       "      <td>1.0</td>\n",
       "    </tr>\n",
       "    <tr>\n",
       "      <th>4</th>\n",
       "      <td>0</td>\n",
       "      <td>0.0</td>\n",
       "      <td>5.0</td>\n",
       "      <td>0.0</td>\n",
       "      <td>3.0</td>\n",
       "      <td>1.0</td>\n",
       "      <td>0.0</td>\n",
       "      <td>0.0</td>\n",
       "      <td>0.0</td>\n",
       "      <td>1.0</td>\n",
       "    </tr>\n",
       "    <tr>\n",
       "      <th>...</th>\n",
       "      <td>...</td>\n",
       "      <td>...</td>\n",
       "      <td>...</td>\n",
       "      <td>...</td>\n",
       "      <td>...</td>\n",
       "      <td>...</td>\n",
       "      <td>...</td>\n",
       "      <td>...</td>\n",
       "      <td>...</td>\n",
       "      <td>...</td>\n",
       "    </tr>\n",
       "    <tr>\n",
       "      <th>146</th>\n",
       "      <td>2</td>\n",
       "      <td>0.0</td>\n",
       "      <td>0.0</td>\n",
       "      <td>0.0</td>\n",
       "      <td>1.0</td>\n",
       "      <td>1.0</td>\n",
       "      <td>1.0</td>\n",
       "      <td>0.0</td>\n",
       "      <td>0.0</td>\n",
       "      <td>1.0</td>\n",
       "    </tr>\n",
       "    <tr>\n",
       "      <th>147</th>\n",
       "      <td>2</td>\n",
       "      <td>0.0</td>\n",
       "      <td>0.0</td>\n",
       "      <td>0.0</td>\n",
       "      <td>1.0</td>\n",
       "      <td>0.0</td>\n",
       "      <td>0.0</td>\n",
       "      <td>0.0</td>\n",
       "      <td>1.0</td>\n",
       "      <td>0.0</td>\n",
       "    </tr>\n",
       "    <tr>\n",
       "      <th>148</th>\n",
       "      <td>0</td>\n",
       "      <td>0.0</td>\n",
       "      <td>0.0</td>\n",
       "      <td>0.0</td>\n",
       "      <td>0.0</td>\n",
       "      <td>0.0</td>\n",
       "      <td>0.0</td>\n",
       "      <td>0.0</td>\n",
       "      <td>0.0</td>\n",
       "      <td>0.0</td>\n",
       "    </tr>\n",
       "    <tr>\n",
       "      <th>149</th>\n",
       "      <td>0</td>\n",
       "      <td>0.0</td>\n",
       "      <td>0.0</td>\n",
       "      <td>0.0</td>\n",
       "      <td>1.0</td>\n",
       "      <td>1.0</td>\n",
       "      <td>0.0</td>\n",
       "      <td>0.0</td>\n",
       "      <td>0.0</td>\n",
       "      <td>0.0</td>\n",
       "    </tr>\n",
       "    <tr>\n",
       "      <th>150</th>\n",
       "      <td>152</td>\n",
       "      <td>NaN</td>\n",
       "      <td>NaN</td>\n",
       "      <td>NaN</td>\n",
       "      <td>NaN</td>\n",
       "      <td>NaN</td>\n",
       "      <td>NaN</td>\n",
       "      <td>NaN</td>\n",
       "      <td>NaN</td>\n",
       "      <td>NaN</td>\n",
       "    </tr>\n",
       "  </tbody>\n",
       "</table>\n",
       "<p>151 rows × 10 columns</p>\n",
       "</div>"
      ],
      "text/plain": [
       "     PYT1  PYT2  PYT3  PYT4  PYT5  PYT6  PYT7  PYT8  PYT9  PYT10\n",
       "0       0   0.0   0.0   0.0   0.0   0.0   0.0   0.0   0.0    0.0\n",
       "1       2   0.0   1.0   0.0   2.0   1.0   1.0   1.0   1.0    1.0\n",
       "2       0   0.0   0.0   0.0   0.0   0.0   0.0   0.0   0.0    0.0\n",
       "3       0   0.0   0.0   0.0   0.0   0.0   0.0   0.0   0.0    1.0\n",
       "4       0   0.0   5.0   0.0   3.0   1.0   0.0   0.0   0.0    1.0\n",
       "..    ...   ...   ...   ...   ...   ...   ...   ...   ...    ...\n",
       "146     2   0.0   0.0   0.0   1.0   1.0   1.0   0.0   0.0    1.0\n",
       "147     2   0.0   0.0   0.0   1.0   0.0   0.0   0.0   1.0    0.0\n",
       "148     0   0.0   0.0   0.0   0.0   0.0   0.0   0.0   0.0    0.0\n",
       "149     0   0.0   0.0   0.0   1.0   1.0   0.0   0.0   0.0    0.0\n",
       "150   152   NaN   NaN   NaN   NaN   NaN   NaN   NaN   NaN    NaN\n",
       "\n",
       "[151 rows x 10 columns]"
      ]
     },
     "execution_count": 34,
     "metadata": {},
     "output_type": "execute_result"
    }
   ],
   "source": [
    "df.loc[ : ,\"PYT1\":\"PYT10\"]"
   ]
  },
  {
   "cell_type": "code",
   "execution_count": 36,
   "id": "ecc1f2e8",
   "metadata": {},
   "outputs": [
    {
     "data": {
      "text/plain": [
       "[0      False\n",
       " 1      False\n",
       " 2       True\n",
       " 3      False\n",
       " 4      False\n",
       "        ...  \n",
       " 146    False\n",
       " 147     True\n",
       " 148    False\n",
       " 149     True\n",
       " 150    False\n",
       " Name: BMI, Length: 151, dtype: bool]"
      ]
     },
     "execution_count": 36,
     "metadata": {},
     "output_type": "execute_result"
    }
   ],
   "source": [
    "[df.BMI < 25]"
   ]
  },
  {
   "cell_type": "code",
   "execution_count": 39,
   "id": "f1d892d9",
   "metadata": {},
   "outputs": [
    {
     "data": {
      "text/plain": [
       "10"
      ]
     },
     "execution_count": 39,
     "metadata": {},
     "output_type": "execute_result"
    }
   ],
   "source": [
    "sum(df.PYT1 == 1)"
   ]
  },
  {
   "cell_type": "code",
   "execution_count": 40,
   "id": "d46a9917",
   "metadata": {},
   "outputs": [
    {
     "data": {
      "text/plain": [
       "3"
      ]
     },
     "execution_count": 40,
     "metadata": {},
     "output_type": "execute_result"
    }
   ],
   "source": [
    "df_pyt1_25 = df.query(\" BMI < 25 and PYT1==1\")\n",
    "sum(df_pyt1_25.PYT1)"
   ]
  },
  {
   "cell_type": "code",
   "execution_count": 41,
   "id": "51638d0e",
   "metadata": {
    "scrolled": true
   },
   "outputs": [
    {
     "data": {
      "text/html": [
       "<div>\n",
       "<style scoped>\n",
       "    .dataframe tbody tr th:only-of-type {\n",
       "        vertical-align: middle;\n",
       "    }\n",
       "\n",
       "    .dataframe tbody tr th {\n",
       "        vertical-align: top;\n",
       "    }\n",
       "\n",
       "    .dataframe thead th {\n",
       "        text-align: right;\n",
       "    }\n",
       "</style>\n",
       "<table border=\"1\" class=\"dataframe\">\n",
       "  <thead>\n",
       "    <tr style=\"text-align: right;\">\n",
       "      <th></th>\n",
       "      <th>NR PORZADKOWY</th>\n",
       "      <th>PLEC</th>\n",
       "      <th>PLEC.1</th>\n",
       "      <th>WIEK</th>\n",
       "      <th>WZROST</th>\n",
       "      <th>MASA CIALA</th>\n",
       "      <th>BMI</th>\n",
       "      <th>BF</th>\n",
       "      <th>PRACA</th>\n",
       "      <th>PYT1</th>\n",
       "      <th>...</th>\n",
       "      <th>PYT5</th>\n",
       "      <th>PYT6</th>\n",
       "      <th>PYT7</th>\n",
       "      <th>PYT8</th>\n",
       "      <th>PYT9</th>\n",
       "      <th>PYT10</th>\n",
       "      <th>SUMA</th>\n",
       "      <th>Unnamed: 20</th>\n",
       "      <th>Unnamed: 21</th>\n",
       "      <th>PRACA.1</th>\n",
       "    </tr>\n",
       "  </thead>\n",
       "  <tbody>\n",
       "    <tr>\n",
       "      <th>5</th>\n",
       "      <td>6.0</td>\n",
       "      <td>K</td>\n",
       "      <td>K</td>\n",
       "      <td>39.0</td>\n",
       "      <td>167.0</td>\n",
       "      <td>67.3</td>\n",
       "      <td>24.131378</td>\n",
       "      <td>31.2</td>\n",
       "      <td>1.0</td>\n",
       "      <td>0</td>\n",
       "      <td>...</td>\n",
       "      <td>1.0</td>\n",
       "      <td>1.0</td>\n",
       "      <td>1.0</td>\n",
       "      <td>0.0</td>\n",
       "      <td>2.0</td>\n",
       "      <td>1.0</td>\n",
       "      <td>7.0</td>\n",
       "      <td>NaN</td>\n",
       "      <td>NaN</td>\n",
       "      <td>biurowa</td>\n",
       "    </tr>\n",
       "    <tr>\n",
       "      <th>7</th>\n",
       "      <td>8.0</td>\n",
       "      <td>K</td>\n",
       "      <td>K</td>\n",
       "      <td>33.0</td>\n",
       "      <td>171.0</td>\n",
       "      <td>70.0</td>\n",
       "      <td>23.938990</td>\n",
       "      <td>21.0</td>\n",
       "      <td>2.0</td>\n",
       "      <td>2</td>\n",
       "      <td>...</td>\n",
       "      <td>1.0</td>\n",
       "      <td>1.0</td>\n",
       "      <td>1.0</td>\n",
       "      <td>0.0</td>\n",
       "      <td>1.0</td>\n",
       "      <td>1.0</td>\n",
       "      <td>8.0</td>\n",
       "      <td>NaN</td>\n",
       "      <td>NaN</td>\n",
       "      <td>fizyczna</td>\n",
       "    </tr>\n",
       "    <tr>\n",
       "      <th>13</th>\n",
       "      <td>14.0</td>\n",
       "      <td>M</td>\n",
       "      <td>M</td>\n",
       "      <td>30.0</td>\n",
       "      <td>170.0</td>\n",
       "      <td>65.6</td>\n",
       "      <td>22.698962</td>\n",
       "      <td>11.2</td>\n",
       "      <td>1.0</td>\n",
       "      <td>2</td>\n",
       "      <td>...</td>\n",
       "      <td>2.0</td>\n",
       "      <td>1.0</td>\n",
       "      <td>1.0</td>\n",
       "      <td>0.0</td>\n",
       "      <td>3.0</td>\n",
       "      <td>1.0</td>\n",
       "      <td>10.0</td>\n",
       "      <td>NaN</td>\n",
       "      <td>NaN</td>\n",
       "      <td>biurowa</td>\n",
       "    </tr>\n",
       "    <tr>\n",
       "      <th>22</th>\n",
       "      <td>23.0</td>\n",
       "      <td>K</td>\n",
       "      <td>K</td>\n",
       "      <td>49.0</td>\n",
       "      <td>172.0</td>\n",
       "      <td>56.8</td>\n",
       "      <td>19.199567</td>\n",
       "      <td>25.0</td>\n",
       "      <td>1.0</td>\n",
       "      <td>2</td>\n",
       "      <td>...</td>\n",
       "      <td>1.0</td>\n",
       "      <td>1.0</td>\n",
       "      <td>1.0</td>\n",
       "      <td>0.0</td>\n",
       "      <td>2.0</td>\n",
       "      <td>3.0</td>\n",
       "      <td>13.0</td>\n",
       "      <td>NaN</td>\n",
       "      <td>NaN</td>\n",
       "      <td>biurowa</td>\n",
       "    </tr>\n",
       "    <tr>\n",
       "      <th>28</th>\n",
       "      <td>29.0</td>\n",
       "      <td>K</td>\n",
       "      <td>K</td>\n",
       "      <td>25.0</td>\n",
       "      <td>174.0</td>\n",
       "      <td>72.1</td>\n",
       "      <td>23.814242</td>\n",
       "      <td>30.0</td>\n",
       "      <td>1.0</td>\n",
       "      <td>2</td>\n",
       "      <td>...</td>\n",
       "      <td>1.0</td>\n",
       "      <td>1.0</td>\n",
       "      <td>1.0</td>\n",
       "      <td>0.0</td>\n",
       "      <td>0.0</td>\n",
       "      <td>1.0</td>\n",
       "      <td>7.0</td>\n",
       "      <td>NaN</td>\n",
       "      <td>NaN</td>\n",
       "      <td>biurowa</td>\n",
       "    </tr>\n",
       "    <tr>\n",
       "      <th>37</th>\n",
       "      <td>38.0</td>\n",
       "      <td>K</td>\n",
       "      <td>K</td>\n",
       "      <td>18.0</td>\n",
       "      <td>186.0</td>\n",
       "      <td>79.8</td>\n",
       "      <td>23.066250</td>\n",
       "      <td>30.3</td>\n",
       "      <td>2.0</td>\n",
       "      <td>2</td>\n",
       "      <td>...</td>\n",
       "      <td>0.0</td>\n",
       "      <td>1.0</td>\n",
       "      <td>0.0</td>\n",
       "      <td>1.0</td>\n",
       "      <td>0.0</td>\n",
       "      <td>1.0</td>\n",
       "      <td>5.0</td>\n",
       "      <td>NaN</td>\n",
       "      <td>NaN</td>\n",
       "      <td>fizyczna</td>\n",
       "    </tr>\n",
       "    <tr>\n",
       "      <th>47</th>\n",
       "      <td>48.0</td>\n",
       "      <td>K</td>\n",
       "      <td>K</td>\n",
       "      <td>58.0</td>\n",
       "      <td>160.0</td>\n",
       "      <td>63.2</td>\n",
       "      <td>24.687500</td>\n",
       "      <td>31.1</td>\n",
       "      <td>1.0</td>\n",
       "      <td>2</td>\n",
       "      <td>...</td>\n",
       "      <td>1.0</td>\n",
       "      <td>1.0</td>\n",
       "      <td>2.0</td>\n",
       "      <td>0.0</td>\n",
       "      <td>0.0</td>\n",
       "      <td>2.0</td>\n",
       "      <td>10.0</td>\n",
       "      <td>NaN</td>\n",
       "      <td>NaN</td>\n",
       "      <td>biurowa</td>\n",
       "    </tr>\n",
       "    <tr>\n",
       "      <th>54</th>\n",
       "      <td>55.0</td>\n",
       "      <td>M</td>\n",
       "      <td>M</td>\n",
       "      <td>28.0</td>\n",
       "      <td>172.0</td>\n",
       "      <td>72.0</td>\n",
       "      <td>24.337480</td>\n",
       "      <td>15.8</td>\n",
       "      <td>3.0</td>\n",
       "      <td>0</td>\n",
       "      <td>...</td>\n",
       "      <td>1.0</td>\n",
       "      <td>1.0</td>\n",
       "      <td>0.0</td>\n",
       "      <td>0.0</td>\n",
       "      <td>0.0</td>\n",
       "      <td>1.0</td>\n",
       "      <td>3.0</td>\n",
       "      <td>NaN</td>\n",
       "      <td>NaN</td>\n",
       "      <td>usługi</td>\n",
       "    </tr>\n",
       "    <tr>\n",
       "      <th>63</th>\n",
       "      <td>64.0</td>\n",
       "      <td>K</td>\n",
       "      <td>K</td>\n",
       "      <td>36.0</td>\n",
       "      <td>165.0</td>\n",
       "      <td>65.4</td>\n",
       "      <td>24.022039</td>\n",
       "      <td>24.1</td>\n",
       "      <td>1.0</td>\n",
       "      <td>2</td>\n",
       "      <td>...</td>\n",
       "      <td>0.0</td>\n",
       "      <td>1.0</td>\n",
       "      <td>1.0</td>\n",
       "      <td>0.0</td>\n",
       "      <td>1.0</td>\n",
       "      <td>0.0</td>\n",
       "      <td>5.0</td>\n",
       "      <td>NaN</td>\n",
       "      <td>NaN</td>\n",
       "      <td>biurowa</td>\n",
       "    </tr>\n",
       "    <tr>\n",
       "      <th>70</th>\n",
       "      <td>71.0</td>\n",
       "      <td>K</td>\n",
       "      <td>K</td>\n",
       "      <td>24.0</td>\n",
       "      <td>163.0</td>\n",
       "      <td>49.7</td>\n",
       "      <td>18.706011</td>\n",
       "      <td>17.2</td>\n",
       "      <td>3.0</td>\n",
       "      <td>2</td>\n",
       "      <td>...</td>\n",
       "      <td>1.0</td>\n",
       "      <td>1.0</td>\n",
       "      <td>0.0</td>\n",
       "      <td>0.0</td>\n",
       "      <td>2.0</td>\n",
       "      <td>3.0</td>\n",
       "      <td>9.0</td>\n",
       "      <td>NaN</td>\n",
       "      <td>NaN</td>\n",
       "      <td>usługi</td>\n",
       "    </tr>\n",
       "    <tr>\n",
       "      <th>72</th>\n",
       "      <td>73.0</td>\n",
       "      <td>K</td>\n",
       "      <td>K</td>\n",
       "      <td>48.0</td>\n",
       "      <td>158.0</td>\n",
       "      <td>58.7</td>\n",
       "      <td>23.513860</td>\n",
       "      <td>28.3</td>\n",
       "      <td>3.0</td>\n",
       "      <td>2</td>\n",
       "      <td>...</td>\n",
       "      <td>0.0</td>\n",
       "      <td>1.0</td>\n",
       "      <td>0.0</td>\n",
       "      <td>0.0</td>\n",
       "      <td>1.0</td>\n",
       "      <td>0.0</td>\n",
       "      <td>4.0</td>\n",
       "      <td>NaN</td>\n",
       "      <td>NaN</td>\n",
       "      <td>usługi</td>\n",
       "    </tr>\n",
       "    <tr>\n",
       "      <th>75</th>\n",
       "      <td>76.0</td>\n",
       "      <td>M</td>\n",
       "      <td>M</td>\n",
       "      <td>24.0</td>\n",
       "      <td>180.0</td>\n",
       "      <td>73.9</td>\n",
       "      <td>22.808642</td>\n",
       "      <td>12.9</td>\n",
       "      <td>1.0</td>\n",
       "      <td>0</td>\n",
       "      <td>...</td>\n",
       "      <td>0.0</td>\n",
       "      <td>1.0</td>\n",
       "      <td>0.0</td>\n",
       "      <td>0.0</td>\n",
       "      <td>0.0</td>\n",
       "      <td>1.0</td>\n",
       "      <td>2.0</td>\n",
       "      <td>NaN</td>\n",
       "      <td>NaN</td>\n",
       "      <td>biurowa</td>\n",
       "    </tr>\n",
       "    <tr>\n",
       "      <th>83</th>\n",
       "      <td>84.0</td>\n",
       "      <td>K</td>\n",
       "      <td>K</td>\n",
       "      <td>23.0</td>\n",
       "      <td>176.0</td>\n",
       "      <td>66.1</td>\n",
       "      <td>21.339101</td>\n",
       "      <td>14.0</td>\n",
       "      <td>3.0</td>\n",
       "      <td>0</td>\n",
       "      <td>...</td>\n",
       "      <td>1.0</td>\n",
       "      <td>1.0</td>\n",
       "      <td>1.0</td>\n",
       "      <td>0.0</td>\n",
       "      <td>2.0</td>\n",
       "      <td>0.0</td>\n",
       "      <td>5.0</td>\n",
       "      <td>NaN</td>\n",
       "      <td>NaN</td>\n",
       "      <td>usługi</td>\n",
       "    </tr>\n",
       "    <tr>\n",
       "      <th>88</th>\n",
       "      <td>89.0</td>\n",
       "      <td>K</td>\n",
       "      <td>K</td>\n",
       "      <td>33.0</td>\n",
       "      <td>169.0</td>\n",
       "      <td>70.4</td>\n",
       "      <td>24.648997</td>\n",
       "      <td>32.7</td>\n",
       "      <td>1.0</td>\n",
       "      <td>0</td>\n",
       "      <td>...</td>\n",
       "      <td>0.0</td>\n",
       "      <td>1.0</td>\n",
       "      <td>0.0</td>\n",
       "      <td>0.0</td>\n",
       "      <td>0.0</td>\n",
       "      <td>0.0</td>\n",
       "      <td>1.0</td>\n",
       "      <td>NaN</td>\n",
       "      <td>NaN</td>\n",
       "      <td>biurowa</td>\n",
       "    </tr>\n",
       "    <tr>\n",
       "      <th>91</th>\n",
       "      <td>92.0</td>\n",
       "      <td>K</td>\n",
       "      <td>K</td>\n",
       "      <td>30.0</td>\n",
       "      <td>165.0</td>\n",
       "      <td>55.8</td>\n",
       "      <td>20.495868</td>\n",
       "      <td>25.5</td>\n",
       "      <td>1.0</td>\n",
       "      <td>2</td>\n",
       "      <td>...</td>\n",
       "      <td>1.0</td>\n",
       "      <td>1.0</td>\n",
       "      <td>1.0</td>\n",
       "      <td>1.0</td>\n",
       "      <td>1.0</td>\n",
       "      <td>1.0</td>\n",
       "      <td>8.0</td>\n",
       "      <td>NaN</td>\n",
       "      <td>NaN</td>\n",
       "      <td>biurowa</td>\n",
       "    </tr>\n",
       "    <tr>\n",
       "      <th>98</th>\n",
       "      <td>99.0</td>\n",
       "      <td>K</td>\n",
       "      <td>K</td>\n",
       "      <td>44.0</td>\n",
       "      <td>162.0</td>\n",
       "      <td>59.0</td>\n",
       "      <td>22.481329</td>\n",
       "      <td>30.5</td>\n",
       "      <td>1.0</td>\n",
       "      <td>0</td>\n",
       "      <td>...</td>\n",
       "      <td>1.0</td>\n",
       "      <td>1.0</td>\n",
       "      <td>1.0</td>\n",
       "      <td>0.0</td>\n",
       "      <td>1.0</td>\n",
       "      <td>0.0</td>\n",
       "      <td>4.0</td>\n",
       "      <td>NaN</td>\n",
       "      <td>NaN</td>\n",
       "      <td>biurowa</td>\n",
       "    </tr>\n",
       "    <tr>\n",
       "      <th>106</th>\n",
       "      <td>107.0</td>\n",
       "      <td>K</td>\n",
       "      <td>K</td>\n",
       "      <td>26.0</td>\n",
       "      <td>172.0</td>\n",
       "      <td>67.7</td>\n",
       "      <td>22.883991</td>\n",
       "      <td>28.7</td>\n",
       "      <td>3.0</td>\n",
       "      <td>0</td>\n",
       "      <td>...</td>\n",
       "      <td>0.0</td>\n",
       "      <td>1.0</td>\n",
       "      <td>0.0</td>\n",
       "      <td>0.0</td>\n",
       "      <td>0.0</td>\n",
       "      <td>0.0</td>\n",
       "      <td>1.0</td>\n",
       "      <td>NaN</td>\n",
       "      <td>NaN</td>\n",
       "      <td>usługi</td>\n",
       "    </tr>\n",
       "    <tr>\n",
       "      <th>108</th>\n",
       "      <td>109.0</td>\n",
       "      <td>K</td>\n",
       "      <td>K</td>\n",
       "      <td>31.0</td>\n",
       "      <td>164.0</td>\n",
       "      <td>57.2</td>\n",
       "      <td>21.267103</td>\n",
       "      <td>24.5</td>\n",
       "      <td>3.0</td>\n",
       "      <td>0</td>\n",
       "      <td>...</td>\n",
       "      <td>0.0</td>\n",
       "      <td>1.0</td>\n",
       "      <td>0.0</td>\n",
       "      <td>0.0</td>\n",
       "      <td>0.0</td>\n",
       "      <td>0.0</td>\n",
       "      <td>1.0</td>\n",
       "      <td>NaN</td>\n",
       "      <td>NaN</td>\n",
       "      <td>usługi</td>\n",
       "    </tr>\n",
       "    <tr>\n",
       "      <th>110</th>\n",
       "      <td>111.0</td>\n",
       "      <td>K</td>\n",
       "      <td>K</td>\n",
       "      <td>27.0</td>\n",
       "      <td>145.0</td>\n",
       "      <td>47.1</td>\n",
       "      <td>22.401902</td>\n",
       "      <td>22.9</td>\n",
       "      <td>3.0</td>\n",
       "      <td>0</td>\n",
       "      <td>...</td>\n",
       "      <td>0.0</td>\n",
       "      <td>1.0</td>\n",
       "      <td>0.0</td>\n",
       "      <td>0.0</td>\n",
       "      <td>0.0</td>\n",
       "      <td>0.0</td>\n",
       "      <td>1.0</td>\n",
       "      <td>NaN</td>\n",
       "      <td>NaN</td>\n",
       "      <td>usługi</td>\n",
       "    </tr>\n",
       "    <tr>\n",
       "      <th>127</th>\n",
       "      <td>128.0</td>\n",
       "      <td>M</td>\n",
       "      <td>M</td>\n",
       "      <td>66.0</td>\n",
       "      <td>170.0</td>\n",
       "      <td>72.0</td>\n",
       "      <td>24.913495</td>\n",
       "      <td>175.0</td>\n",
       "      <td>1.0</td>\n",
       "      <td>2</td>\n",
       "      <td>...</td>\n",
       "      <td>0.0</td>\n",
       "      <td>1.0</td>\n",
       "      <td>0.0</td>\n",
       "      <td>0.0</td>\n",
       "      <td>0.0</td>\n",
       "      <td>0.0</td>\n",
       "      <td>4.0</td>\n",
       "      <td>NaN</td>\n",
       "      <td>NaN</td>\n",
       "      <td>biurowa</td>\n",
       "    </tr>\n",
       "    <tr>\n",
       "      <th>131</th>\n",
       "      <td>132.0</td>\n",
       "      <td>K</td>\n",
       "      <td>K</td>\n",
       "      <td>40.0</td>\n",
       "      <td>170.0</td>\n",
       "      <td>67.2</td>\n",
       "      <td>23.252595</td>\n",
       "      <td>29.3</td>\n",
       "      <td>1.0</td>\n",
       "      <td>0</td>\n",
       "      <td>...</td>\n",
       "      <td>0.0</td>\n",
       "      <td>1.0</td>\n",
       "      <td>0.0</td>\n",
       "      <td>0.0</td>\n",
       "      <td>0.0</td>\n",
       "      <td>0.0</td>\n",
       "      <td>1.0</td>\n",
       "      <td>NaN</td>\n",
       "      <td>NaN</td>\n",
       "      <td>biurowa</td>\n",
       "    </tr>\n",
       "    <tr>\n",
       "      <th>137</th>\n",
       "      <td>138.0</td>\n",
       "      <td>K</td>\n",
       "      <td>K</td>\n",
       "      <td>22.0</td>\n",
       "      <td>165.0</td>\n",
       "      <td>63.4</td>\n",
       "      <td>23.287420</td>\n",
       "      <td>26.9</td>\n",
       "      <td>3.0</td>\n",
       "      <td>0</td>\n",
       "      <td>...</td>\n",
       "      <td>1.0</td>\n",
       "      <td>1.0</td>\n",
       "      <td>0.0</td>\n",
       "      <td>0.0</td>\n",
       "      <td>0.0</td>\n",
       "      <td>0.0</td>\n",
       "      <td>2.0</td>\n",
       "      <td>NaN</td>\n",
       "      <td>NaN</td>\n",
       "      <td>usługi</td>\n",
       "    </tr>\n",
       "    <tr>\n",
       "      <th>145</th>\n",
       "      <td>146.0</td>\n",
       "      <td>M</td>\n",
       "      <td>M</td>\n",
       "      <td>21.0</td>\n",
       "      <td>178.0</td>\n",
       "      <td>71.3</td>\n",
       "      <td>22.503472</td>\n",
       "      <td>12.6</td>\n",
       "      <td>3.0</td>\n",
       "      <td>0</td>\n",
       "      <td>...</td>\n",
       "      <td>0.0</td>\n",
       "      <td>1.0</td>\n",
       "      <td>0.0</td>\n",
       "      <td>0.0</td>\n",
       "      <td>0.0</td>\n",
       "      <td>0.0</td>\n",
       "      <td>1.0</td>\n",
       "      <td>NaN</td>\n",
       "      <td>NaN</td>\n",
       "      <td>usługi</td>\n",
       "    </tr>\n",
       "    <tr>\n",
       "      <th>149</th>\n",
       "      <td>150.0</td>\n",
       "      <td>K</td>\n",
       "      <td>K</td>\n",
       "      <td>40.0</td>\n",
       "      <td>176.0</td>\n",
       "      <td>63.1</td>\n",
       "      <td>20.370610</td>\n",
       "      <td>30.6</td>\n",
       "      <td>3.0</td>\n",
       "      <td>0</td>\n",
       "      <td>...</td>\n",
       "      <td>1.0</td>\n",
       "      <td>1.0</td>\n",
       "      <td>0.0</td>\n",
       "      <td>0.0</td>\n",
       "      <td>0.0</td>\n",
       "      <td>0.0</td>\n",
       "      <td>2.0</td>\n",
       "      <td>NaN</td>\n",
       "      <td>NaN</td>\n",
       "      <td>usługi</td>\n",
       "    </tr>\n",
       "  </tbody>\n",
       "</table>\n",
       "<p>24 rows × 23 columns</p>\n",
       "</div>"
      ],
      "text/plain": [
       "     NR PORZADKOWY PLEC PLEC.1  WIEK  WZROST  MASA CIALA        BMI     BF  \\\n",
       "5              6.0    K      K  39.0   167.0        67.3  24.131378   31.2   \n",
       "7              8.0    K      K  33.0   171.0        70.0  23.938990   21.0   \n",
       "13            14.0    M      M  30.0   170.0        65.6  22.698962   11.2   \n",
       "22            23.0    K      K  49.0   172.0        56.8  19.199567   25.0   \n",
       "28            29.0    K      K  25.0   174.0        72.1  23.814242   30.0   \n",
       "37            38.0    K      K  18.0   186.0        79.8  23.066250   30.3   \n",
       "47            48.0    K      K  58.0   160.0        63.2  24.687500   31.1   \n",
       "54            55.0    M      M  28.0   172.0        72.0  24.337480   15.8   \n",
       "63            64.0    K      K  36.0   165.0        65.4  24.022039   24.1   \n",
       "70            71.0    K      K  24.0   163.0        49.7  18.706011   17.2   \n",
       "72            73.0    K      K  48.0   158.0        58.7  23.513860   28.3   \n",
       "75            76.0    M      M  24.0   180.0        73.9  22.808642   12.9   \n",
       "83            84.0    K      K  23.0   176.0        66.1  21.339101   14.0   \n",
       "88            89.0    K      K  33.0   169.0        70.4  24.648997   32.7   \n",
       "91            92.0    K      K  30.0   165.0        55.8  20.495868   25.5   \n",
       "98            99.0    K      K  44.0   162.0        59.0  22.481329   30.5   \n",
       "106          107.0    K      K  26.0   172.0        67.7  22.883991   28.7   \n",
       "108          109.0    K      K  31.0   164.0        57.2  21.267103   24.5   \n",
       "110          111.0    K      K  27.0   145.0        47.1  22.401902   22.9   \n",
       "127          128.0    M      M  66.0   170.0        72.0  24.913495  175.0   \n",
       "131          132.0    K      K  40.0   170.0        67.2  23.252595   29.3   \n",
       "137          138.0    K      K  22.0   165.0        63.4  23.287420   26.9   \n",
       "145          146.0    M      M  21.0   178.0        71.3  22.503472   12.6   \n",
       "149          150.0    K      K  40.0   176.0        63.1  20.370610   30.6   \n",
       "\n",
       "     PRACA  PYT1  ...  PYT5  PYT6  PYT7  PYT8  PYT9  PYT10  SUMA  Unnamed: 20  \\\n",
       "5      1.0     0  ...   1.0   1.0   1.0   0.0   2.0    1.0   7.0          NaN   \n",
       "7      2.0     2  ...   1.0   1.0   1.0   0.0   1.0    1.0   8.0          NaN   \n",
       "13     1.0     2  ...   2.0   1.0   1.0   0.0   3.0    1.0  10.0          NaN   \n",
       "22     1.0     2  ...   1.0   1.0   1.0   0.0   2.0    3.0  13.0          NaN   \n",
       "28     1.0     2  ...   1.0   1.0   1.0   0.0   0.0    1.0   7.0          NaN   \n",
       "37     2.0     2  ...   0.0   1.0   0.0   1.0   0.0    1.0   5.0          NaN   \n",
       "47     1.0     2  ...   1.0   1.0   2.0   0.0   0.0    2.0  10.0          NaN   \n",
       "54     3.0     0  ...   1.0   1.0   0.0   0.0   0.0    1.0   3.0          NaN   \n",
       "63     1.0     2  ...   0.0   1.0   1.0   0.0   1.0    0.0   5.0          NaN   \n",
       "70     3.0     2  ...   1.0   1.0   0.0   0.0   2.0    3.0   9.0          NaN   \n",
       "72     3.0     2  ...   0.0   1.0   0.0   0.0   1.0    0.0   4.0          NaN   \n",
       "75     1.0     0  ...   0.0   1.0   0.0   0.0   0.0    1.0   2.0          NaN   \n",
       "83     3.0     0  ...   1.0   1.0   1.0   0.0   2.0    0.0   5.0          NaN   \n",
       "88     1.0     0  ...   0.0   1.0   0.0   0.0   0.0    0.0   1.0          NaN   \n",
       "91     1.0     2  ...   1.0   1.0   1.0   1.0   1.0    1.0   8.0          NaN   \n",
       "98     1.0     0  ...   1.0   1.0   1.0   0.0   1.0    0.0   4.0          NaN   \n",
       "106    3.0     0  ...   0.0   1.0   0.0   0.0   0.0    0.0   1.0          NaN   \n",
       "108    3.0     0  ...   0.0   1.0   0.0   0.0   0.0    0.0   1.0          NaN   \n",
       "110    3.0     0  ...   0.0   1.0   0.0   0.0   0.0    0.0   1.0          NaN   \n",
       "127    1.0     2  ...   0.0   1.0   0.0   0.0   0.0    0.0   4.0          NaN   \n",
       "131    1.0     0  ...   0.0   1.0   0.0   0.0   0.0    0.0   1.0          NaN   \n",
       "137    3.0     0  ...   1.0   1.0   0.0   0.0   0.0    0.0   2.0          NaN   \n",
       "145    3.0     0  ...   0.0   1.0   0.0   0.0   0.0    0.0   1.0          NaN   \n",
       "149    3.0     0  ...   1.0   1.0   0.0   0.0   0.0    0.0   2.0          NaN   \n",
       "\n",
       "     Unnamed: 21   PRACA.1  \n",
       "5            NaN   biurowa  \n",
       "7            NaN  fizyczna  \n",
       "13           NaN   biurowa  \n",
       "22           NaN   biurowa  \n",
       "28           NaN   biurowa  \n",
       "37           NaN  fizyczna  \n",
       "47           NaN   biurowa  \n",
       "54           NaN    usługi  \n",
       "63           NaN   biurowa  \n",
       "70           NaN    usługi  \n",
       "72           NaN    usługi  \n",
       "75           NaN   biurowa  \n",
       "83           NaN    usługi  \n",
       "88           NaN   biurowa  \n",
       "91           NaN   biurowa  \n",
       "98           NaN   biurowa  \n",
       "106          NaN    usługi  \n",
       "108          NaN    usługi  \n",
       "110          NaN    usługi  \n",
       "127          NaN   biurowa  \n",
       "131          NaN   biurowa  \n",
       "137          NaN    usługi  \n",
       "145          NaN    usługi  \n",
       "149          NaN    usługi  \n",
       "\n",
       "[24 rows x 23 columns]"
      ]
     },
     "execution_count": 41,
     "metadata": {},
     "output_type": "execute_result"
    }
   ],
   "source": [
    "df.query(\" BMI < 25 and PYT6==1\")"
   ]
  },
  {
   "cell_type": "code",
   "execution_count": 42,
   "id": "ed37e9ce",
   "metadata": {},
   "outputs": [],
   "source": [
    "suma_p1 = sum(df.query(\" BMI < 25 and PYT1==1\").PYT1)\n",
    "suma_p2 = sum(df.query(\" BMI < 25 and PYT2==1\").PYT2)\n",
    "suma_p3 = sum(df.query(\" BMI < 25 and PYT3==1\").PYT3)\n",
    "suma_p4 = sum(df.query(\" BMI < 25 and PYT4==1\").PYT4)\n",
    "suma_p5 = sum(df.query(\" BMI < 25 and PYT5==1\").PYT5)\n",
    "suma_p6 = sum(df.query(\" BMI < 25 and PYT6==1\").PYT6)\n",
    "suma_p7 = sum(df.query(\" BMI < 25 and PYT7==1\").PYT7)\n",
    "suma_p8 = sum(df.query(\" BMI < 25 and PYT8==1\").PYT8)\n",
    "suma_p9 = sum(df.query(\" BMI < 25 and PYT9==1\").PYT9)\n",
    "suma_p10 = sum(df.query(\" BMI < 25 and PYT10==1\").PYT10)"
   ]
  },
  {
   "cell_type": "code",
   "execution_count": 43,
   "id": "bdb0584b",
   "metadata": {},
   "outputs": [
    {
     "data": {
      "text/plain": [
       "111.0"
      ]
     },
     "execution_count": 43,
     "metadata": {},
     "output_type": "execute_result"
    }
   ],
   "source": [
    "suma_ogolem_bmi_25 = suma_p1+suma_p2+suma_p3+suma_p4+suma_p5+suma_p6+suma_p7+suma_p8+suma_p9+suma_p10\n",
    "suma_ogolem_bmi_25"
   ]
  },
  {
   "cell_type": "code",
   "execution_count": 44,
   "id": "162ea8a0",
   "metadata": {},
   "outputs": [
    {
     "data": {
      "text/plain": [
       "18.0"
      ]
     },
     "execution_count": 44,
     "metadata": {},
     "output_type": "execute_result"
    }
   ],
   "source": [
    "suma_p10"
   ]
  },
  {
   "cell_type": "code",
   "execution_count": 45,
   "id": "1c23f005",
   "metadata": {},
   "outputs": [
    {
     "data": {
      "text/plain": [
       "[0, 0, 0, 0, 0, 0, 0, 0, 0, 0]"
      ]
     },
     "execution_count": 45,
     "metadata": {},
     "output_type": "execute_result"
    }
   ],
   "source": [
    "tab_25_1 = [0 for x in range(10)]\n",
    "tab_25_1"
   ]
  },
  {
   "cell_type": "code",
   "execution_count": 46,
   "id": "5d0b6377",
   "metadata": {},
   "outputs": [],
   "source": [
    "a=0\n",
    "for i in range(9,19):\n",
    "    tab_25_1[a] = sum(df.iloc[:,i][ (df.BMI < 25) & (df.iloc[:,i] == 1) ])\n",
    "    a+=1"
   ]
  },
  {
   "cell_type": "code",
   "execution_count": 47,
   "id": "de2bf6a7",
   "metadata": {},
   "outputs": [
    {
     "data": {
      "text/plain": [
       "[3, 6.0, 7.0, 2.0, 24.0, 24.0, 13.0, 3.0, 11.0, 18.0]"
      ]
     },
     "execution_count": 47,
     "metadata": {},
     "output_type": "execute_result"
    }
   ],
   "source": [
    "tab_25_1"
   ]
  },
  {
   "cell_type": "code",
   "execution_count": 48,
   "id": "802080ff",
   "metadata": {},
   "outputs": [
    {
     "data": {
      "text/plain": [
       "111.0"
      ]
     },
     "execution_count": 48,
     "metadata": {},
     "output_type": "execute_result"
    }
   ],
   "source": [
    "sum(tab_25_1)"
   ]
  },
  {
   "cell_type": "code",
   "execution_count": 49,
   "id": "0f6bd533",
   "metadata": {},
   "outputs": [
    {
     "data": {
      "text/plain": [
       "0        0\n",
       "1        2\n",
       "2        0\n",
       "3        0\n",
       "4        0\n",
       "      ... \n",
       "146      2\n",
       "147      2\n",
       "148      0\n",
       "149      0\n",
       "150    152\n",
       "Name: PYT1, Length: 151, dtype: int64"
      ]
     },
     "execution_count": 49,
     "metadata": {},
     "output_type": "execute_result"
    }
   ],
   "source": [
    "df.iloc[:,9]"
   ]
  },
  {
   "cell_type": "code",
   "execution_count": 50,
   "id": "67e0305d",
   "metadata": {},
   "outputs": [
    {
     "data": {
      "text/plain": [
       "['PYT10']"
      ]
     },
     "execution_count": 50,
     "metadata": {},
     "output_type": "execute_result"
    }
   ],
   "source": [
    "[df.columns[18]]"
   ]
  },
  {
   "cell_type": "code",
   "execution_count": 51,
   "id": "5311961b",
   "metadata": {},
   "outputs": [
    {
     "data": {
      "text/plain": [
       "3"
      ]
     },
     "execution_count": 51,
     "metadata": {},
     "output_type": "execute_result"
    }
   ],
   "source": [
    "sum(df.iloc[:,9][ (df.BMI < 25) & (df.iloc[:,9] == 1) ])"
   ]
  },
  {
   "cell_type": "code",
   "execution_count": 52,
   "id": "7d427348",
   "metadata": {},
   "outputs": [
    {
     "data": {
      "text/plain": [
       "Index(['NR PORZADKOWY', 'PLEC', 'PLEC.1', 'WIEK', 'WZROST', 'MASA CIALA',\n",
       "       'BMI', 'BF', 'PRACA', 'PYT1', 'PYT2', 'PYT3', 'PYT4', 'PYT5', 'PYT6',\n",
       "       'PYT7', 'PYT8', 'PYT9', 'PYT10', 'SUMA', 'Unnamed: 20', 'Unnamed: 21',\n",
       "       'PRACA.1'],\n",
       "      dtype='object')"
      ]
     },
     "execution_count": 52,
     "metadata": {},
     "output_type": "execute_result"
    }
   ],
   "source": [
    "df.columns"
   ]
  },
  {
   "cell_type": "markdown",
   "id": "4e918c13",
   "metadata": {},
   "source": [
    "### BMI - suma odp. \n",
    "x_axis = 0,1,2,3,4,5\n",
    "y_axis = suma odp dla poszczegolnych wyborow odp (0,1,2,3,4,5) na pytania 1-10"
   ]
  },
  {
   "cell_type": "code",
   "execution_count": 53,
   "id": "0bb16778",
   "metadata": {},
   "outputs": [
    {
     "data": {
      "text/plain": [
       "[3, 6.0, 7.0, 2.0, 24.0, 24.0, 13.0, 3.0, 11.0, 18.0]"
      ]
     },
     "execution_count": 53,
     "metadata": {},
     "output_type": "execute_result"
    }
   ],
   "source": [
    "for i in range(9,19):\n",
    "    tab_25_1[i-9] = sum(df.iloc[:,i][ (df.BMI < 25) & (df.iloc[:,i] == 1) ])\n",
    "tab_25_1\n",
    "\n",
    "for i in range(9,19):\n",
    "    tab_25_1[i-9] = sum(df.iloc[:,i][ (df.BMI < 25) & (df.iloc[:,i] == 1) ])\n",
    "tab_25_1"
   ]
  },
  {
   "cell_type": "code",
   "execution_count": 54,
   "id": "45192abf",
   "metadata": {},
   "outputs": [],
   "source": [
    "tablica_2 = [[0 for j in range(10)] for i in range(5)]"
   ]
  },
  {
   "cell_type": "code",
   "execution_count": 55,
   "id": "94439ba1",
   "metadata": {},
   "outputs": [
    {
     "data": {
      "text/plain": [
       "[[43, 61, 57, 65, 40, 37, 53, 64, 49, 44],\n",
       " [3, 6, 7, 2, 24, 24, 13, 3, 11, 18],\n",
       " [18, 0, 1, 0, 3, 5, 1, 0, 6, 3],\n",
       " [1, 0, 2, 0, 0, 1, 0, 0, 1, 2],\n",
       " [2, 0, 0, 0, 0, 0, 0, 0, 0, 0],\n",
       " [0, 0, 0, 0, 0, 0, 0, 0, 0, 0]]"
      ]
     },
     "execution_count": 55,
     "metadata": {},
     "output_type": "execute_result"
    }
   ],
   "source": [
    "tab_25 = [[0 for j in range(10)] for i in range(6)]\n",
    "\n",
    "for j in range(0,6):\n",
    "    for i in range(9,19):\n",
    "        tab_25[j][i-9] = (df.iloc[:,i][ (df.BMI < 25) & (df.iloc[:,i] == j) ]).count()\n",
    "            \n",
    "tab_25"
   ]
  },
  {
   "cell_type": "code",
   "execution_count": 56,
   "id": "d476107a",
   "metadata": {},
   "outputs": [
    {
     "data": {
      "text/plain": [
       "[[35, 66, 52, 72, 33, 34, 52, 70, 48, 32],\n",
       " [7, 13, 23, 10, 32, 29, 25, 9, 26, 39],\n",
       " [34, 1, 2, 1, 16, 18, 6, 2, 9, 6],\n",
       " [2, 3, 1, 0, 2, 0, 0, 1, 0, 4],\n",
       " [4, 0, 2, 0, 0, 2, 0, 1, 0, 2],\n",
       " [1, 0, 3, 0, 0, 0, 0, 0, 0, 0]]"
      ]
     },
     "execution_count": 56,
     "metadata": {},
     "output_type": "execute_result"
    }
   ],
   "source": [
    "tab_25_plus = [[0 for j in range(10)] for i in range(6)]\n",
    "\n",
    "for j in range(0,6):\n",
    "    for i in range(9,19):\n",
    "        tab_25_plus[j][i-9] = (df.iloc[:,i][ (df.BMI >= 25) & (df.iloc[:,i] == j) ]).count()\n",
    "            \n",
    "tab_25_plus"
   ]
  },
  {
   "cell_type": "code",
   "execution_count": 57,
   "id": "8a305ffe",
   "metadata": {},
   "outputs": [
    {
     "data": {
      "text/plain": [
       "([513, 111, 37, 7, 2, 0], [494, 213, 95, 13, 11, 4])"
      ]
     },
     "execution_count": 57,
     "metadata": {},
     "output_type": "execute_result"
    }
   ],
   "source": [
    "bmi_25_sum = [ sum(tab_25[x]) for x in range(6) ]\n",
    "bmi_25_plus_sum = [ sum(tab_25_plus[x]) for x in range(6) ]\n",
    "\n",
    "bmi_25_sum, bmi_25_plus_sum"
   ]
  },
  {
   "cell_type": "code",
   "execution_count": 64,
   "id": "11eec1ad",
   "metadata": {
    "scrolled": false
   },
   "outputs": [
    {
     "data": {
      "image/png": "[encoded data removed]",
      "text/plain": [
       "<Figure size 1080x720 with 1 Axes>"
      ]
     },
     "metadata": {
      "needs_background": "light"
     },
     "output_type": "display_data"
    }
   ],
   "source": [
    "odp = [0,1,2,3,4,5]\n",
    "\n",
    "x = np.array([1,5,9,13,17,21])\n",
    "\n",
    "# bmi_25 = np.array(tab_25)\n",
    "# bmi_25_plus = np.array(tab_25_plus)\n",
    "\n",
    "\n",
    "#plt.figure(figsize=(20,7))\n",
    "\n",
    "plt.bar(x, bmi_25_sum, color=\"brown\", width=1, label=\"BMI < 25\")\n",
    "plt.bar(x+1, bmi_25_plus_sum, color=\"silver\", width=1,  label=\"BMI >= 25\")\n",
    "\n",
    "\n",
    "plt.legend(loc=\"upper left\", ncol=2)\n",
    "plt.gcf().set_size_inches(15,10)\n",
    "\n",
    "plt.yticks(range(0,650,50))\n",
    "plt.xticks(x+.5, odp)\n",
    "\n",
    "plt.xlabel(\"Odpowiedź\")\n",
    "plt.ylabel(\"Ilość odpowiedzi\")\n",
    "plt.grid(axis='y')\n",
    "\n",
    "plt.text(.5, bmi_25_sum[0]+5, bmi_25_sum[0], fontsize=12, color=\"black\")\n",
    "plt.text(4.5, bmi_25_sum[1]+5, bmi_25_sum[1], fontsize=12, color=\"black\")\n",
    "plt.text(8.5, bmi_25_sum[2]+5, bmi_25_sum[2], fontsize=12, color=\"black\")\n",
    "plt.text(12.5, bmi_25_sum[3]+5, bmi_25_sum[3], fontsize=12, color=\"black\")\n",
    "plt.text(16.5, bmi_25_sum[4]+5, bmi_25_sum[4], fontsize=12, color=\"black\")\n",
    "plt.text(20.5, bmi_25_sum[5]+5, bmi_25_sum[5], fontsize=12, color=\"black\")\n",
    "\n",
    "plt.text(1.7, bmi_25_plus_sum[0]+5, bmi_25_plus_sum[0], fontsize=12, color=\"black\")\n",
    "plt.text(5.7, bmi_25_plus_sum[1]+5, bmi_25_plus_sum[1], fontsize=12, color=\"black\")\n",
    "plt.text(9.7, bmi_25_plus_sum[2]+5, bmi_25_plus_sum[2], fontsize=12, color=\"black\")\n",
    "plt.text(13.7, bmi_25_plus_sum[3]+5, bmi_25_plus_sum[3], fontsize=12, color=\"black\")\n",
    "plt.text(17.7, bmi_25_plus_sum[4]+5, bmi_25_plus_sum[4], fontsize=12, color=\"black\")\n",
    "plt.text(21.7, bmi_25_plus_sum[5]+5, bmi_25_plus_sum[5], fontsize=12, color=\"black\")\n",
    "\n",
    "plt.show()"
   ]
  },
  {
   "cell_type": "markdown",
   "id": "81e3f25b",
   "metadata": {},
   "source": [
    "### 10 wykresow --> PYT 1 - 10"
   ]
  },
  {
   "cell_type": "code",
   "execution_count": 61,
   "id": "37820fcc",
   "metadata": {},
   "outputs": [
    {
     "data": {
      "text/plain": [
       "[[43, 61, 57, 65, 40, 37, 53, 64, 49, 44],\n",
       " [3, 6, 7, 2, 24, 24, 13, 3, 11, 18],\n",
       " [18, 0, 1, 0, 3, 5, 1, 0, 6, 3],\n",
       " [1, 0, 2, 0, 0, 1, 0, 0, 1, 2],\n",
       " [2, 0, 0, 0, 0, 0, 0, 0, 0, 0],\n",
       " [0, 0, 0, 0, 0, 0, 0, 0, 0, 0]]"
      ]
     },
     "execution_count": 61,
     "metadata": {},
     "output_type": "execute_result"
    }
   ],
   "source": [
    "tab_25"
   ]
  },
  {
   "cell_type": "code",
   "execution_count": 62,
   "id": "07d93b2e",
   "metadata": {},
   "outputs": [
    {
     "data": {
      "text/plain": [
       "[[35, 66, 52, 72, 33, 34, 52, 70, 48, 32],\n",
       " [7, 13, 23, 10, 32, 29, 25, 9, 26, 39],\n",
       " [34, 1, 2, 1, 16, 18, 6, 2, 9, 6],\n",
       " [2, 3, 1, 0, 2, 0, 0, 1, 0, 4],\n",
       " [4, 0, 2, 0, 0, 2, 0, 1, 0, 2],\n",
       " [1, 0, 3, 0, 0, 0, 0, 0, 0, 0]]"
      ]
     },
     "execution_count": 62,
     "metadata": {},
     "output_type": "execute_result"
    }
   ],
   "source": [
    "tab_25_plus"
   ]
  },
  {
   "cell_type": "code",
   "execution_count": 63,
   "id": "212a8e0c",
   "metadata": {},
   "outputs": [],
   "source": [
    "# tab_25[0][0] -> pytanie 1, odp 0\n",
    "# tab_25[0][1] -> pytanie 1, odp 1"
   ]
  },
  {
   "cell_type": "code",
   "execution_count": 73,
   "id": "b6b95263",
   "metadata": {},
   "outputs": [
    {
     "data": {
      "text/plain": [
       "([43, 3, 18, 1, 2, 0], [35, 7, 34, 2, 4, 1])"
      ]
     },
     "execution_count": 73,
     "metadata": {},
     "output_type": "execute_result"
    }
   ],
   "source": [
    "tab_25_pytanie_1 = [ tab_25[x][0] for x in range(6) ]\n",
    "tab_25_plus_pytanie_1 = [ tab_25_plus[x][0] for x in range(6) ]\n",
    "\n",
    "tab_25_pytanie_1, tab_25_plus_pytanie_1"
   ]
  },
  {
   "cell_type": "code",
   "execution_count": 76,
   "id": "0d757b63",
   "metadata": {},
   "outputs": [
    {
     "data": {
      "image/png": "[encoded data removed]",
      "text/plain": [
       "<Figure size 1080x720 with 1 Axes>"
      ]
     },
     "metadata": {
      "needs_background": "light"
     },
     "output_type": "display_data"
    }
   ],
   "source": [
    "odp = [0,1,2,3,4,5]\n",
    "\n",
    "x = np.array([1,5,9,13,17,21])\n",
    "\n",
    "plt.bar(x, tab_25_pytanie_1, color=\"brown\", width=1, label=\"BMI < 25\")\n",
    "plt.bar(x+1, tab_25_plus_pytanie_1, color=\"silver\", width=1,  label=\"BMI >= 25\")\n",
    "\n",
    "plt.legend(loc=\"upper left\", ncol=2)\n",
    "plt.gcf().set_size_inches(15,10)\n",
    "\n",
    "plt.yticks(range(0,55,5))\n",
    "plt.xticks(x+.5, odp)\n",
    "\n",
    "plt.xlabel(\"Odpowiedź\")\n",
    "plt.ylabel(\"Ilość odpowiedzi\")\n",
    "plt.title(\"PYTANIE 1\")\n",
    "\n",
    "plt.grid(axis='y')\n",
    "\n",
    "plt.show()"
   ]
  },
  {
   "cell_type": "code",
   "execution_count": 81,
   "id": "a3cc1bd1",
   "metadata": {},
   "outputs": [
    {
     "data": {
      "image/png": "[encoded data removed]",
      "text/plain": [
       "<Figure size 1080x720 with 1 Axes>"
      ]
     },
     "metadata": {
      "needs_background": "light"
     },
     "output_type": "display_data"
    }
   ],
   "source": [
    "tab_25_pytanie_2 = [ tab_25[x][1] for x in range(6) ]\n",
    "tab_25_plus_pytanie_2 = [ tab_25_plus[x][1] for x in range(6) ]\n",
    "\n",
    "plt.bar(x, tab_25_pytanie_2, color=\"brown\", width=1, label=\"BMI < 25\")\n",
    "plt.bar(x+1, tab_25_plus_pytanie_2, color=\"silver\", width=1,  label=\"BMI >= 25\")\n",
    "\n",
    "plt.legend(loc=\"upper left\", ncol=2)\n",
    "plt.gcf().set_size_inches(15,10)\n",
    "\n",
    "plt.yticks(range(0,80,5))\n",
    "plt.xticks(x+.5, odp)\n",
    "\n",
    "plt.xlabel(\"Odpowiedź\")\n",
    "plt.ylabel(\"Ilość odpowiedzi\")\n",
    "plt.title(\"PYTANIE 2\")\n",
    "\n",
    "plt.grid(axis='y')\n",
    "\n",
    "plt.show()"
   ]
  },
  {
   "cell_type": "code",
   "execution_count": 84,
   "id": "7ad547e1",
   "metadata": {},
   "outputs": [
    {
     "data": {
      "image/png": "[encoded data removed]",
      "text/plain": [
       "<Figure size 1080x720 with 1 Axes>"
      ]
     },
     "metadata": {
      "needs_background": "light"
     },
     "output_type": "display_data"
    }
   ],
   "source": [
    "tab_25_pytanie_10 = [ tab_25[x][9] for x in range(6) ]\n",
    "tab_25_plus_pytanie_10 = [ tab_25_plus[x][9] for x in range(6) ]\n",
    "\n",
    "plt.bar(x, tab_25_pytanie_10, color=\"brown\", width=1, label=\"BMI < 25\")\n",
    "plt.bar(x+1, tab_25_plus_pytanie_10, color=\"silver\", width=1,  label=\"BMI >= 25\")\n",
    "\n",
    "plt.legend(loc=\"upper left\", ncol=2)\n",
    "plt.gcf().set_size_inches(15,10)\n",
    "\n",
    "plt.yticks(range(0,55,5))\n",
    "plt.xticks(x+.5, odp)\n",
    "\n",
    "plt.xlabel(\"Odpowiedź\")\n",
    "plt.ylabel(\"Ilość odpowiedzi\")\n",
    "plt.title(\"PYTANIE 10\")\n",
    "\n",
    "plt.grid(axis='y')\n",
    "\n",
    "plt.show()"
   ]
  },
  {
   "cell_type": "code",
   "execution_count": null,
   "id": "a862c8bc",
   "metadata": {},
   "outputs": [],
   "source": []
  }
 ],
 "metadata": {
  "kernelspec": {
   "display_name": "Python 3 (ipykernel)",
   "language": "python",
   "name": "python3"
  },
  "language_info": {
   "codemirror_mode": {
    "name": "ipython",
    "version": 3
   },
   "file_extension": ".py",
   "mimetype": "text/x-python",
   "name": "python",
   "nbconvert_exporter": "python",
   "pygments_lexer": "ipython3",
   "version": "3.9.7"
  }
 },
 "nbformat": 4,
 "nbformat_minor": 5
}
